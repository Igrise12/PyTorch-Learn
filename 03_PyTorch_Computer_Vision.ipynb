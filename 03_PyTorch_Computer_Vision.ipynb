{
 "cells": [
  {
   "cell_type": "markdown",
   "id": "b4ebdffb",
   "metadata": {},
   "source": [
    "# PyTorch Computer Vision\n",
    "\n",
    "https://www.learnpytorch.io/03_pytorch_computer_vision/"
   ]
  },
  {
   "cell_type": "markdown",
   "id": "383ebaae",
   "metadata": {},
   "source": [
    "## 0. Computer vision libaries in Python\n",
    "\n",
    "* `torchvision.datasets` - get datasets and data loading functions for CV \n",
    "* `torchvision.models` - get pretrained computer vision models that you can leverage for your own problem\n",
    "* `torchvision.transform` - functions for manipulation your vision data (images) to be suitable with ML Model \n",
    "* `torch.utils.data.Dataset` - Base dataset class for PyTorch\n",
    "* `torch.utils.data.DataLoader` - Create a PyThon iterable over a dataset"
   ]
  },
  {
   "cell_type": "code",
   "execution_count": 1,
   "id": "3281cac6",
   "metadata": {},
   "outputs": [
    {
     "name": "stdout",
     "output_type": "stream",
     "text": [
      "2.8.0+cu126\n",
      "0.23.0+cu126\n"
     ]
    }
   ],
   "source": [
    "import torch \n",
    "from torch import nn\n",
    "\n",
    "import torchvision\n",
    "from torchvision import datasets\n",
    "from torchvision import transforms\n",
    "from torchvision.transforms import ToTensor \n",
    "\n",
    "import matplotlib.pyplot as plt \n",
    "\n",
    "\n",
    "print(torch.__version__)\n",
    "print(torchvision.__version__)"
   ]
  },
  {
   "cell_type": "markdown",
   "id": "c04ef430",
   "metadata": {},
   "source": [
    "### 1. Getting a Dataset\n",
    "\n",
    "The dataset wel'll be using is FashionMNIST"
   ]
  },
  {
   "cell_type": "code",
   "execution_count": 2,
   "id": "45ede96a",
   "metadata": {},
   "outputs": [],
   "source": [
    "# Setup training data \n",
    "train_data = datasets.FashionMNIST(\n",
    "    root =\"data\",  # where data to downloaded\n",
    "    train = True, # do we want the training datasets\n",
    "    download = True,  #do we want download yes/no\n",
    "    transform = torchvision.transforms.ToTensor(),  # how to we want to transform the data\n",
    "    target_transform= None # How do we want to transform the labels/target \n",
    ")\n",
    "\n",
    "test_data = datasets.FashionMNIST(\n",
    "    root = \"data\",\n",
    "    train = False,\n",
    "    download = True, \n",
    "    transform= ToTensor(),\n",
    "    target_transform= None \n",
    ")\n"
   ]
  },
  {
   "cell_type": "code",
   "execution_count": 3,
   "id": "ca7dca47",
   "metadata": {},
   "outputs": [
    {
     "data": {
      "text/plain": [
       "(60000, 10000)"
      ]
     },
     "execution_count": 3,
     "metadata": {},
     "output_type": "execute_result"
    }
   ],
   "source": [
    "len(train_data), len(test_data)"
   ]
  },
  {
   "cell_type": "code",
   "execution_count": 4,
   "id": "28bc20c5",
   "metadata": {},
   "outputs": [
    {
     "data": {
      "text/plain": [
       "(tensor([[[0.0000, 0.0000, 0.0000, 0.0000, 0.0000, 0.0000, 0.0000, 0.0000,\n",
       "           0.0000, 0.0000, 0.0000, 0.0000, 0.0000, 0.0000, 0.0000, 0.0000,\n",
       "           0.0000, 0.0000, 0.0000, 0.0000, 0.0000, 0.0000, 0.0000, 0.0000,\n",
       "           0.0000, 0.0000, 0.0000, 0.0000],\n",
       "          [0.0000, 0.0000, 0.0000, 0.0000, 0.0000, 0.0000, 0.0000, 0.0000,\n",
       "           0.0000, 0.0000, 0.0000, 0.0000, 0.0000, 0.0000, 0.0000, 0.0000,\n",
       "           0.0000, 0.0000, 0.0000, 0.0000, 0.0000, 0.0000, 0.0000, 0.0000,\n",
       "           0.0000, 0.0000, 0.0000, 0.0000],\n",
       "          [0.0000, 0.0000, 0.0000, 0.0000, 0.0000, 0.0000, 0.0000, 0.0000,\n",
       "           0.0000, 0.0000, 0.0000, 0.0000, 0.0000, 0.0000, 0.0000, 0.0000,\n",
       "           0.0000, 0.0000, 0.0000, 0.0000, 0.0000, 0.0000, 0.0000, 0.0000,\n",
       "           0.0000, 0.0000, 0.0000, 0.0000],\n",
       "          [0.0000, 0.0000, 0.0000, 0.0000, 0.0000, 0.0000, 0.0000, 0.0000,\n",
       "           0.0000, 0.0000, 0.0000, 0.0000, 0.0039, 0.0000, 0.0000, 0.0510,\n",
       "           0.2863, 0.0000, 0.0000, 0.0039, 0.0157, 0.0000, 0.0000, 0.0000,\n",
       "           0.0000, 0.0039, 0.0039, 0.0000],\n",
       "          [0.0000, 0.0000, 0.0000, 0.0000, 0.0000, 0.0000, 0.0000, 0.0000,\n",
       "           0.0000, 0.0000, 0.0000, 0.0000, 0.0118, 0.0000, 0.1412, 0.5333,\n",
       "           0.4980, 0.2431, 0.2118, 0.0000, 0.0000, 0.0000, 0.0039, 0.0118,\n",
       "           0.0157, 0.0000, 0.0000, 0.0118],\n",
       "          [0.0000, 0.0000, 0.0000, 0.0000, 0.0000, 0.0000, 0.0000, 0.0000,\n",
       "           0.0000, 0.0000, 0.0000, 0.0000, 0.0235, 0.0000, 0.4000, 0.8000,\n",
       "           0.6902, 0.5255, 0.5647, 0.4824, 0.0902, 0.0000, 0.0000, 0.0000,\n",
       "           0.0000, 0.0471, 0.0392, 0.0000],\n",
       "          [0.0000, 0.0000, 0.0000, 0.0000, 0.0000, 0.0000, 0.0000, 0.0000,\n",
       "           0.0000, 0.0000, 0.0000, 0.0000, 0.0000, 0.0000, 0.6078, 0.9255,\n",
       "           0.8118, 0.6980, 0.4196, 0.6118, 0.6314, 0.4275, 0.2510, 0.0902,\n",
       "           0.3020, 0.5098, 0.2824, 0.0588],\n",
       "          [0.0000, 0.0000, 0.0000, 0.0000, 0.0000, 0.0000, 0.0000, 0.0000,\n",
       "           0.0000, 0.0000, 0.0000, 0.0039, 0.0000, 0.2706, 0.8118, 0.8745,\n",
       "           0.8549, 0.8471, 0.8471, 0.6392, 0.4980, 0.4745, 0.4784, 0.5725,\n",
       "           0.5529, 0.3451, 0.6745, 0.2588],\n",
       "          [0.0000, 0.0000, 0.0000, 0.0000, 0.0000, 0.0000, 0.0000, 0.0000,\n",
       "           0.0000, 0.0039, 0.0039, 0.0039, 0.0000, 0.7843, 0.9098, 0.9098,\n",
       "           0.9137, 0.8980, 0.8745, 0.8745, 0.8431, 0.8353, 0.6431, 0.4980,\n",
       "           0.4824, 0.7686, 0.8980, 0.0000],\n",
       "          [0.0000, 0.0000, 0.0000, 0.0000, 0.0000, 0.0000, 0.0000, 0.0000,\n",
       "           0.0000, 0.0000, 0.0000, 0.0000, 0.0000, 0.7176, 0.8824, 0.8471,\n",
       "           0.8745, 0.8941, 0.9216, 0.8902, 0.8784, 0.8706, 0.8784, 0.8667,\n",
       "           0.8745, 0.9608, 0.6784, 0.0000],\n",
       "          [0.0000, 0.0000, 0.0000, 0.0000, 0.0000, 0.0000, 0.0000, 0.0000,\n",
       "           0.0000, 0.0000, 0.0000, 0.0000, 0.0000, 0.7569, 0.8941, 0.8549,\n",
       "           0.8353, 0.7765, 0.7059, 0.8314, 0.8235, 0.8275, 0.8353, 0.8745,\n",
       "           0.8627, 0.9529, 0.7922, 0.0000],\n",
       "          [0.0000, 0.0000, 0.0000, 0.0000, 0.0000, 0.0000, 0.0000, 0.0000,\n",
       "           0.0000, 0.0039, 0.0118, 0.0000, 0.0471, 0.8588, 0.8627, 0.8314,\n",
       "           0.8549, 0.7529, 0.6627, 0.8902, 0.8157, 0.8549, 0.8784, 0.8314,\n",
       "           0.8863, 0.7725, 0.8196, 0.2039],\n",
       "          [0.0000, 0.0000, 0.0000, 0.0000, 0.0000, 0.0000, 0.0000, 0.0000,\n",
       "           0.0000, 0.0000, 0.0235, 0.0000, 0.3882, 0.9569, 0.8706, 0.8627,\n",
       "           0.8549, 0.7961, 0.7765, 0.8667, 0.8431, 0.8353, 0.8706, 0.8627,\n",
       "           0.9608, 0.4667, 0.6549, 0.2196],\n",
       "          [0.0000, 0.0000, 0.0000, 0.0000, 0.0000, 0.0000, 0.0000, 0.0000,\n",
       "           0.0000, 0.0157, 0.0000, 0.0000, 0.2157, 0.9255, 0.8941, 0.9020,\n",
       "           0.8941, 0.9412, 0.9098, 0.8353, 0.8549, 0.8745, 0.9176, 0.8510,\n",
       "           0.8510, 0.8196, 0.3608, 0.0000],\n",
       "          [0.0000, 0.0000, 0.0039, 0.0157, 0.0235, 0.0275, 0.0078, 0.0000,\n",
       "           0.0000, 0.0000, 0.0000, 0.0000, 0.9294, 0.8863, 0.8510, 0.8745,\n",
       "           0.8706, 0.8588, 0.8706, 0.8667, 0.8471, 0.8745, 0.8980, 0.8431,\n",
       "           0.8549, 1.0000, 0.3020, 0.0000],\n",
       "          [0.0000, 0.0118, 0.0000, 0.0000, 0.0000, 0.0000, 0.0000, 0.0000,\n",
       "           0.0000, 0.2431, 0.5686, 0.8000, 0.8941, 0.8118, 0.8353, 0.8667,\n",
       "           0.8549, 0.8157, 0.8275, 0.8549, 0.8784, 0.8745, 0.8588, 0.8431,\n",
       "           0.8784, 0.9569, 0.6235, 0.0000],\n",
       "          [0.0000, 0.0000, 0.0000, 0.0000, 0.0706, 0.1725, 0.3216, 0.4196,\n",
       "           0.7412, 0.8941, 0.8627, 0.8706, 0.8510, 0.8863, 0.7843, 0.8039,\n",
       "           0.8275, 0.9020, 0.8784, 0.9176, 0.6902, 0.7373, 0.9804, 0.9725,\n",
       "           0.9137, 0.9333, 0.8431, 0.0000],\n",
       "          [0.0000, 0.2235, 0.7333, 0.8157, 0.8784, 0.8667, 0.8784, 0.8157,\n",
       "           0.8000, 0.8392, 0.8157, 0.8196, 0.7843, 0.6235, 0.9608, 0.7569,\n",
       "           0.8078, 0.8745, 1.0000, 1.0000, 0.8667, 0.9176, 0.8667, 0.8275,\n",
       "           0.8627, 0.9098, 0.9647, 0.0000],\n",
       "          [0.0118, 0.7922, 0.8941, 0.8784, 0.8667, 0.8275, 0.8275, 0.8392,\n",
       "           0.8039, 0.8039, 0.8039, 0.8627, 0.9412, 0.3137, 0.5882, 1.0000,\n",
       "           0.8980, 0.8667, 0.7373, 0.6039, 0.7490, 0.8235, 0.8000, 0.8196,\n",
       "           0.8706, 0.8941, 0.8824, 0.0000],\n",
       "          [0.3843, 0.9137, 0.7765, 0.8235, 0.8706, 0.8980, 0.8980, 0.9176,\n",
       "           0.9765, 0.8627, 0.7608, 0.8431, 0.8510, 0.9451, 0.2549, 0.2863,\n",
       "           0.4157, 0.4588, 0.6588, 0.8588, 0.8667, 0.8431, 0.8510, 0.8745,\n",
       "           0.8745, 0.8784, 0.8980, 0.1137],\n",
       "          [0.2941, 0.8000, 0.8314, 0.8000, 0.7569, 0.8039, 0.8275, 0.8824,\n",
       "           0.8471, 0.7255, 0.7725, 0.8078, 0.7765, 0.8353, 0.9412, 0.7647,\n",
       "           0.8902, 0.9608, 0.9373, 0.8745, 0.8549, 0.8314, 0.8196, 0.8706,\n",
       "           0.8627, 0.8667, 0.9020, 0.2627],\n",
       "          [0.1882, 0.7961, 0.7176, 0.7608, 0.8353, 0.7725, 0.7255, 0.7451,\n",
       "           0.7608, 0.7529, 0.7922, 0.8392, 0.8588, 0.8667, 0.8627, 0.9255,\n",
       "           0.8824, 0.8471, 0.7804, 0.8078, 0.7294, 0.7098, 0.6941, 0.6745,\n",
       "           0.7098, 0.8039, 0.8078, 0.4510],\n",
       "          [0.0000, 0.4784, 0.8588, 0.7569, 0.7020, 0.6706, 0.7176, 0.7686,\n",
       "           0.8000, 0.8235, 0.8353, 0.8118, 0.8275, 0.8235, 0.7843, 0.7686,\n",
       "           0.7608, 0.7490, 0.7647, 0.7490, 0.7765, 0.7529, 0.6902, 0.6118,\n",
       "           0.6549, 0.6941, 0.8235, 0.3608],\n",
       "          [0.0000, 0.0000, 0.2902, 0.7412, 0.8314, 0.7490, 0.6863, 0.6745,\n",
       "           0.6863, 0.7098, 0.7255, 0.7373, 0.7412, 0.7373, 0.7569, 0.7765,\n",
       "           0.8000, 0.8196, 0.8235, 0.8235, 0.8275, 0.7373, 0.7373, 0.7608,\n",
       "           0.7529, 0.8471, 0.6667, 0.0000],\n",
       "          [0.0078, 0.0000, 0.0000, 0.0000, 0.2588, 0.7843, 0.8706, 0.9294,\n",
       "           0.9373, 0.9490, 0.9647, 0.9529, 0.9569, 0.8667, 0.8627, 0.7569,\n",
       "           0.7490, 0.7020, 0.7137, 0.7137, 0.7098, 0.6902, 0.6510, 0.6588,\n",
       "           0.3882, 0.2275, 0.0000, 0.0000],\n",
       "          [0.0000, 0.0000, 0.0000, 0.0000, 0.0000, 0.0000, 0.0000, 0.1569,\n",
       "           0.2392, 0.1725, 0.2824, 0.1608, 0.1373, 0.0000, 0.0000, 0.0000,\n",
       "           0.0000, 0.0000, 0.0000, 0.0000, 0.0000, 0.0000, 0.0000, 0.0000,\n",
       "           0.0000, 0.0000, 0.0000, 0.0000],\n",
       "          [0.0000, 0.0000, 0.0000, 0.0000, 0.0000, 0.0000, 0.0000, 0.0000,\n",
       "           0.0000, 0.0000, 0.0000, 0.0000, 0.0000, 0.0000, 0.0000, 0.0000,\n",
       "           0.0000, 0.0000, 0.0000, 0.0000, 0.0000, 0.0000, 0.0000, 0.0000,\n",
       "           0.0000, 0.0000, 0.0000, 0.0000],\n",
       "          [0.0000, 0.0000, 0.0000, 0.0000, 0.0000, 0.0000, 0.0000, 0.0000,\n",
       "           0.0000, 0.0000, 0.0000, 0.0000, 0.0000, 0.0000, 0.0000, 0.0000,\n",
       "           0.0000, 0.0000, 0.0000, 0.0000, 0.0000, 0.0000, 0.0000, 0.0000,\n",
       "           0.0000, 0.0000, 0.0000, 0.0000]]]),\n",
       " 9)"
      ]
     },
     "execution_count": 4,
     "metadata": {},
     "output_type": "execute_result"
    }
   ],
   "source": [
    "image,label = train_data[0]\n",
    "image,label"
   ]
  },
  {
   "cell_type": "code",
   "execution_count": 5,
   "id": "442485c0",
   "metadata": {},
   "outputs": [],
   "source": [
    "class_names = train_data.classes    "
   ]
  },
  {
   "cell_type": "code",
   "execution_count": 6,
   "id": "6330505c",
   "metadata": {},
   "outputs": [
    {
     "data": {
      "text/plain": [
       "{'T-shirt/top': 0,\n",
       " 'Trouser': 1,\n",
       " 'Pullover': 2,\n",
       " 'Dress': 3,\n",
       " 'Coat': 4,\n",
       " 'Sandal': 5,\n",
       " 'Shirt': 6,\n",
       " 'Sneaker': 7,\n",
       " 'Bag': 8,\n",
       " 'Ankle boot': 9}"
      ]
     },
     "execution_count": 6,
     "metadata": {},
     "output_type": "execute_result"
    }
   ],
   "source": [
    "class_to_idx = train_data.class_to_idx\n",
    "class_to_idx"
   ]
  },
  {
   "cell_type": "code",
   "execution_count": 7,
   "id": "6e7e44bb",
   "metadata": {},
   "outputs": [
    {
     "data": {
      "text/plain": [
       "tensor([9, 0, 0,  ..., 3, 0, 5])"
      ]
     },
     "execution_count": 7,
     "metadata": {},
     "output_type": "execute_result"
    }
   ],
   "source": [
    "train_data.targets"
   ]
  },
  {
   "cell_type": "code",
   "execution_count": null,
   "id": "349f79ed",
   "metadata": {},
   "outputs": [],
   "source": []
  },
  {
   "cell_type": "code",
   "execution_count": 8,
   "id": "a4d3c395",
   "metadata": {},
   "outputs": [
    {
     "name": "stdout",
     "output_type": "stream",
     "text": [
      "Image Shape: torch.Size([1, 28, 28]) -> [Color Channels, Height, Width]\n",
      "Image Label: Ankle boot\n"
     ]
    }
   ],
   "source": [
    "# Check the shape of our model\n",
    "print(f\"Image Shape: {image.shape} -> [Color Channels, Height, Width]\")\n",
    "print(f\"Image Label: {class_names[label]}\")"
   ]
  },
  {
   "cell_type": "markdown",
   "id": "d4a511b8",
   "metadata": {},
   "source": [
    "### 1.2 Visualizing our data"
   ]
  },
  {
   "cell_type": "code",
   "execution_count": 9,
   "id": "bdcb2071",
   "metadata": {},
   "outputs": [
    {
     "name": "stdout",
     "output_type": "stream",
     "text": [
      "Image Shape torch.Size([1, 28, 28])\n"
     ]
    },
    {
     "data": {
      "text/plain": [
       "Text(0.5, 1.0, 'Ankle boot')"
      ]
     },
     "execution_count": 9,
     "metadata": {},
     "output_type": "execute_result"
    },
    {
     "data": {
      "image/png": "[encoded data removed]",
      "text/plain": [
       "<Figure size 640x480 with 1 Axes>"
      ]
     },
     "metadata": {},
     "output_type": "display_data"
    }
   ],
   "source": [
    "import matplotlib.pyplot as plt \n",
    "image, label = train_data[0]\n",
    "print(f\"Image Shape {image.shape}\")\n",
    "plt.imshow(image.squeeze())\n",
    "plt.title(class_names[label])"
   ]
  },
  {
   "cell_type": "code",
   "execution_count": 10,
   "id": "3e5b22f9",
   "metadata": {},
   "outputs": [
    {
     "data": {
      "text/plain": [
       "<matplotlib.image.AxesImage at 0x11a71e1c910>"
      ]
     },
     "execution_count": 10,
     "metadata": {},
     "output_type": "execute_result"
    },
    {
     "data": {
      "image/png": "[encoded data removed]",
      "text/plain": [
       "<Figure size 640x480 with 1 Axes>"
      ]
     },
     "metadata": {},
     "output_type": "display_data"
    }
   ],
   "source": [
    "plt.imshow(image.squeeze(), cmap = \"gray\")\n"
   ]
  },
  {
   "cell_type": "code",
   "execution_count": 11,
   "id": "252877f0",
   "metadata": {},
   "outputs": [
    {
     "data": {
      "image/png": "[encoded data removed]",
      "text/plain": [
       "<Figure size 900x900 with 16 Axes>"
      ]
     },
     "metadata": {},
     "output_type": "display_data"
    }
   ],
   "source": [
    "# plot more images \n",
    "# torch.manual_seed(42)\n",
    "fig = plt.figure(figsize = (9,9))\n",
    "rows, cols = 4,4\n",
    "for i in range(1, rows*cols+1):\n",
    "    random_idx = torch.randint(0, len(train_data), size = [1]).item()\n",
    "    # print(random_idx)\n",
    "    img, label = train_data[random_idx] \n",
    "    fig.add_subplot(rows, cols, i)\n",
    "    plt.imshow(img.squeeze(),cmap= \"gray\")\n",
    "    plt.title(class_names[label])\n",
    "    plt.axis(False)"
   ]
  },
  {
   "cell_type": "markdown",
   "id": "9bb6ab68",
   "metadata": {},
   "source": [
    "Do You think thesse items of clothing (images) could be modelled with pure linear lines? Or do you think we'll need non-linearities"
   ]
  },
  {
   "cell_type": "code",
   "execution_count": 12,
   "id": "9ac9ae57",
   "metadata": {},
   "outputs": [
    {
     "data": {
      "text/plain": [
       "(Dataset FashionMNIST\n",
       "     Number of datapoints: 60000\n",
       "     Root location: data\n",
       "     Split: Train\n",
       "     StandardTransform\n",
       " Transform: ToTensor(),\n",
       " Dataset FashionMNIST\n",
       "     Number of datapoints: 10000\n",
       "     Root location: data\n",
       "     Split: Test\n",
       "     StandardTransform\n",
       " Transform: ToTensor())"
      ]
     },
     "execution_count": 12,
     "metadata": {},
     "output_type": "execute_result"
    }
   ],
   "source": [
    "train_data, test_data"
   ]
  },
  {
   "cell_type": "markdown",
   "id": "d86d41dc",
   "metadata": {},
   "source": [
    "## 2. Prepare Data Loader\n",
    "\n",
    "Right now, our data is in thee form of PyTorch Datasets\n",
    "\n",
    "DataLoader turn our dataset into a Python iterable\n",
    "\n",
    "More specifiacally, we want to turn our data into batches (or mini-batches).\n",
    "\n",
    "why would we do this? \n",
    "1. It is more computationally efficient, as in your computing hardware my not be able to look (store in memory) at 60000 images in one hit. \n",
    "2. It gives our neural network more chance to update its gradients per epochs \n",
    "\n",
    "\n"
   ]
  },
  {
   "cell_type": "code",
   "execution_count": 13,
   "id": "e0f1ee84",
   "metadata": {},
   "outputs": [
    {
     "data": {
      "text/plain": [
       "(<torch.utils.data.dataloader.DataLoader at 0x11a71b0f620>,\n",
       " <torch.utils.data.dataloader.DataLoader at 0x11a72c50910>)"
      ]
     },
     "execution_count": 13,
     "metadata": {},
     "output_type": "execute_result"
    }
   ],
   "source": [
    "from torch.utils.data import DataLoader \n",
    "\n",
    "# setup the batch size hyperparameter \n",
    "BATCH_SIZE = 32\n",
    "\n",
    "# Turn Datasets into iterables  (batches)\n",
    "train_dataloader = DataLoader(dataset = train_data, batch_size= BATCH_SIZE, shuffle= True)\n",
    "\n",
    "test_dataloader =DataLoader(dataset= test_data, batch_size= BATCH_SIZE, shuffle= False )\n",
    "\n",
    "train_dataloader, test_dataloader"
   ]
  },
  {
   "cell_type": "code",
   "execution_count": 14,
   "id": "31f9832b",
   "metadata": {},
   "outputs": [
    {
     "name": "stdout",
     "output_type": "stream",
     "text": [
      "DataLoaders: (<torch.utils.data.dataloader.DataLoader object at 0x0000011A71B0F620>, <torch.utils.data.dataloader.DataLoader object at 0x0000011A72C50910>)\n",
      "Length of Train_DataLoader: 1875 batches of 32...\n",
      "Length of Test_DataLoader: 313 batches of 32...\n"
     ]
    }
   ],
   "source": [
    "# Lets check out what we've created \n",
    "print(f\"DataLoaders: {train_dataloader, test_dataloader}\")\n",
    "print(f\"Length of Train_DataLoader: {len(train_dataloader)} batches of {BATCH_SIZE}...\")\n",
    "print(f\"Length of Test_DataLoader: {len(test_dataloader)} batches of {BATCH_SIZE}...\")\n"
   ]
  },
  {
   "cell_type": "code",
   "execution_count": 15,
   "id": "efef993c",
   "metadata": {},
   "outputs": [
    {
     "data": {
      "text/plain": [
       "torch.Size([32, 1, 28, 28])"
      ]
     },
     "execution_count": 15,
     "metadata": {},
     "output_type": "execute_result"
    }
   ],
   "source": [
    "train_features_batch, train_labels_batch = next(iter(train_dataloader))\n",
    "train_features_batch.shape"
   ]
  },
  {
   "cell_type": "code",
   "execution_count": 16,
   "id": "698bd3e3",
   "metadata": {},
   "outputs": [
    {
     "name": "stdout",
     "output_type": "stream",
     "text": [
      "Image size: torch.Size([1, 28, 28])\n",
      "Label 3, label size: torch.Size([])\n"
     ]
    },
    {
     "data": {
      "image/png": "[encoded data removed]",
      "text/plain": [
       "<Figure size 640x480 with 1 Axes>"
      ]
     },
     "metadata": {},
     "output_type": "display_data"
    }
   ],
   "source": [
    "# Show a sample\n",
    "random_idx = torch.randint(0, len(train_features_batch),size = [1]).item()\n",
    "img, label = train_features_batch[random_idx], train_labels_batch[random_idx]\n",
    "plt.imshow(img.squeeze(), cmap =\"gray\")\n",
    "plt.title(class_names[label])\n",
    "plt.axis(False)\n",
    "print(f\"Image size: {image.shape}\")\n",
    "print(f\"Label {label}, label size: {label.shape}\")"
   ]
  },
  {
   "cell_type": "markdown",
   "id": "50198e7c",
   "metadata": {},
   "source": [
    "## 3. Model 0: Build a baseline model \n",
    "\n",
    "When starting to build a series of machine learning experiements, its best practice to start with a baseline model \n",
    "\n",
    "A baseline model is a simpel model you will try and improve upon with subsequent models/experiments\n",
    "\n",
    "In other words: start simply and add complexity when necessary  "
   ]
  },
  {
   "cell_type": "code",
   "execution_count": 17,
   "id": "0d68cf3a",
   "metadata": {},
   "outputs": [
    {
     "name": "stdout",
     "output_type": "stream",
     "text": [
      "Shape before flattening: torch.Size([1, 28, 28]) -> [Color_channels, height, width]\n",
      "Shape after flattening: torch.Size([1, 784])[color_channels, height*width]\n"
     ]
    }
   ],
   "source": [
    "# Create a flatten layer \n",
    "\n",
    "flatten_model = nn.Flatten()\n",
    "\n",
    "# Get a single sample \n",
    "x = train_features_batch[0]\n",
    "\n",
    "\n",
    "output = flatten_model(x)\n",
    "print(f\"Shape before flattening: {x.shape} -> [Color_channels, height, width]\")\n",
    "print(f\"Shape after flattening: {output.shape}[color_channels, height*width]\")"
   ]
  },
  {
   "cell_type": "code",
   "execution_count": 18,
   "id": "d99fbef7",
   "metadata": {},
   "outputs": [],
   "source": [
    "from torch import nn \n",
    "class FashionMNISTModelV0(nn.Module):\n",
    "    def __init__(self, input_shape : int, hidden_units :int, output_shape: int):\n",
    "        super().__init__()\n",
    "        self.layer_stack = nn.Sequential(\n",
    "            nn.Flatten(),\n",
    "            nn.Linear(input_shape, hidden_units),\n",
    "            nn.Linear(hidden_units, output_shape)\n",
    "        )    \n",
    "        \n",
    "    def forward(self,x):\n",
    "        return self.layer_stack(x)"
   ]
  },
  {
   "cell_type": "code",
   "execution_count": 19,
   "id": "c6164b6c",
   "metadata": {},
   "outputs": [
    {
     "data": {
      "text/plain": [
       "FashionMNISTModelV0(\n",
       "  (layer_stack): Sequential(\n",
       "    (0): Flatten(start_dim=1, end_dim=-1)\n",
       "    (1): Linear(in_features=784, out_features=10, bias=True)\n",
       "    (2): Linear(in_features=10, out_features=10, bias=True)\n",
       "  )\n",
       ")"
      ]
     },
     "execution_count": 19,
     "metadata": {},
     "output_type": "execute_result"
    }
   ],
   "source": [
    "torch.manual_seed(42)\n",
    "\n",
    "# Setup model with input parameter\n",
    "model_0 = FashionMNISTModelV0(\n",
    "    input_shape=784, # this 28*28\n",
    "    hidden_units= 10, # how many units in the hidden layer\n",
    "    output_shape= len(class_names)\n",
    ").to(\"cpu\")\n",
    "\n",
    "model_0"
   ]
  },
  {
   "cell_type": "code",
   "execution_count": 20,
   "id": "ee09a657",
   "metadata": {},
   "outputs": [
    {
     "data": {
      "text/plain": [
       "tensor([[-0.0315,  0.3171,  0.0531, -0.2525,  0.5959,  0.2112,  0.3233,  0.2694,\n",
       "         -0.1004,  0.0157]], grad_fn=<AddmmBackward0>)"
      ]
     },
     "execution_count": 20,
     "metadata": {},
     "output_type": "execute_result"
    }
   ],
   "source": [
    "dummy_x = torch.rand([1,1,28,28])\n",
    "model_0(dummy_x)"
   ]
  },
  {
   "cell_type": "markdown",
   "id": "4c7c735c",
   "metadata": {},
   "source": [
    "### 3.1 Setup loss, optimizier and evaluation metrics\n",
    "\n",
    "* Loss function - since we're working with multi-class data, our loss function will be `nn.CrossEntropyLoss()`\n",
    "* Optimizer - our optimizer `torch.optim.SGD()` (stochastic gradient descent)\n",
    "* Evaluation metric - since we're working on a classification problem, let's use acc as our eval metric"
   ]
  },
  {
   "cell_type": "code",
   "execution_count": 21,
   "id": "0a0d5118",
   "metadata": {},
   "outputs": [],
   "source": [
    "from helper_function import accuracy_fn \n",
    "\n",
    "loss_fn = nn.CrossEntropyLoss()\n",
    "optimizer = torch.optim.SGD(model_0.parameters(), lr=0.1)"
   ]
  },
  {
   "cell_type": "markdown",
   "id": "f24224d1",
   "metadata": {},
   "source": [
    "### 3.2 Create a function to time our experiments\n",
    "\n",
    "Machine learning is very experimental. \n",
    "\n",
    "Two of the main thing you'll often want to track are:\n",
    "1. Model's Performance (loss, acc values, etc)\n",
    "2. How fast it runs"
   ]
  },
  {
   "cell_type": "code",
   "execution_count": 22,
   "id": "3590ebd2",
   "metadata": {},
   "outputs": [],
   "source": [
    "### 3.2 Create a function to time our experiments\n",
    "from timeit import default_timer as timer \n",
    "\n",
    "def print_train_time(start: float, end:float, device: torch.device=None):\n",
    "    \"\"\"Prints difference between start and end time.\"\"\"\n",
    "    total_time = end -start \n",
    "    print(f\"train time on {device} : {total_time:.3f}\")\n",
    "    return total_time"
   ]
  },
  {
   "cell_type": "code",
   "execution_count": 23,
   "id": "bd130904",
   "metadata": {},
   "outputs": [
    {
     "name": "stdout",
     "output_type": "stream",
     "text": [
      "train time on None : 0.000\n"
     ]
    },
    {
     "data": {
      "text/plain": [
       "3.4899999263870995e-05"
      ]
     },
     "execution_count": 23,
     "metadata": {},
     "output_type": "execute_result"
    }
   ],
   "source": [
    "star_time = timer()\n",
    "\n",
    "\n",
    "\n",
    "end_time = timer() \n",
    "\n",
    "print_train_time(start = star_time, end= end_time)"
   ]
  },
  {
   "cell_type": "markdown",
   "id": "00fe242a",
   "metadata": {},
   "source": [
    "### 3.3 Create a training loop and training a model on batches of data\n",
    "\n",
    "1. Loop through epochs\n",
    "2. Loop through training batches, perform training steps, calculate the train loss **per batches**\n",
    "3. Loop through testing batches, perform testing steps, calculate the test loss *per batch*.\n",
    "4. Print out what's happening\n",
    "5. Time it all (for fun)"
   ]
  },
  {
   "cell_type": "code",
   "execution_count": null,
   "id": "e70ada76",
   "metadata": {},
   "outputs": [
    {
     "data": {
      "application/vnd.jupyter.widget-view+json": {
       "model_id": "0d0c6b258a804e32860e9b77b8d99422",
       "version_major": 2,
       "version_minor": 0
      },
      "text/plain": [
       "  0%|          | 0/10 [00:00<?, ?it/s]"
      ]
     },
     "metadata": {},
     "output_type": "display_data"
    },
    {
     "name": "stdout",
     "output_type": "stream",
     "text": [
      "Epoch: 0\n",
      "Looked at 0.0\n",
      "Looked at 0.21333333333333335\n",
      "Looked at 0.4266666666666667\n",
      "Looked at 0.64\n",
      "Looked at 0.8533333333333334\n",
      "\n",
      " Train Loss: 0.5904 | Test Loss: 0.5095 | Test Acc: 82.0387\n",
      "Epoch: 1\n",
      "Looked at 0.0\n",
      "Looked at 0.21333333333333335\n",
      "Looked at 0.4266666666666667\n",
      "Looked at 0.64\n",
      "Looked at 0.8533333333333334\n",
      "\n",
      " Train Loss: 0.4763 | Test Loss: 0.4799 | Test Acc: 83.1969\n",
      "Epoch: 2\n",
      "Looked at 0.0\n",
      "Looked at 0.21333333333333335\n",
      "Looked at 0.4266666666666667\n",
      "Looked at 0.64\n",
      "Looked at 0.8533333333333334\n",
      "\n",
      " Train Loss: 0.4550 | Test Loss: 0.4766 | Test Acc: 83.4265\n",
      "Epoch: 3\n",
      "Looked at 0.0\n",
      "Looked at 0.21333333333333335\n",
      "Looked at 0.4266666666666667\n",
      "Looked at 0.64\n",
      "Looked at 0.8533333333333334\n",
      "\n",
      " Train Loss: 0.4425 | Test Loss: 0.4631 | Test Acc: 83.7460\n",
      "Epoch: 4\n",
      "Looked at 0.0\n",
      "Looked at 0.21333333333333335\n",
      "Looked at 0.4266666666666667\n",
      "Looked at 0.64\n",
      "Looked at 0.8533333333333334\n",
      "\n",
      " Train Loss: 0.4358 | Test Loss: 0.4687 | Test Acc: 83.2668\n",
      "Epoch: 5\n",
      "Looked at 0.0\n",
      "Looked at 0.21333333333333335\n",
      "Looked at 0.4266666666666667\n",
      "Looked at 0.64\n",
      "Looked at 0.8533333333333334\n",
      "\n",
      " Train Loss: 0.4291 | Test Loss: 0.4589 | Test Acc: 83.6362\n",
      "Epoch: 6\n",
      "Looked at 0.0\n",
      "Looked at 0.21333333333333335\n",
      "Looked at 0.4266666666666667\n",
      "Looked at 0.64\n",
      "Looked at 0.8533333333333334\n",
      "\n",
      " Train Loss: 0.4248 | Test Loss: 0.4877 | Test Acc: 83.3167\n",
      "Epoch: 7\n",
      "Looked at 0.0\n",
      "Looked at 0.21333333333333335\n",
      "Looked at 0.4266666666666667\n",
      "Looked at 0.64\n",
      "Looked at 0.8533333333333334\n",
      "\n",
      " Train Loss: 0.4227 | Test Loss: 0.4722 | Test Acc: 83.3766\n",
      "Epoch: 8\n",
      "Looked at 0.0\n",
      "Looked at 0.21333333333333335\n",
      "Looked at 0.4266666666666667\n",
      "Looked at 0.64\n",
      "Looked at 0.8533333333333334\n",
      "\n",
      " Train Loss: 0.4203 | Test Loss: 0.4713 | Test Acc: 83.4565\n",
      "Epoch: 9\n",
      "Looked at 0.0\n",
      "Looked at 0.21333333333333335\n",
      "Looked at 0.4266666666666667\n",
      "Looked at 0.64\n",
      "Looked at 0.8533333333333334\n",
      "\n",
      " Train Loss: 0.4175 | Test Loss: 0.4628 | Test Acc: 83.6462\n",
      "train time on cpu : 79.723\n"
     ]
    }
   ],
   "source": [
    "# import tqdm\n",
    "from tqdm.auto import tqdm \n",
    "\n",
    "torch.manual_seed(42)\n",
    "train_time_start_on_cpu = timer()\n",
    "\n",
    "# Set the number of epochs (we'll keep this small for faster training time)\n",
    "epochs = 10``\n",
    "\n",
    "# Create training and test loop \n",
    "for epoch in tqdm(range(epochs)):\n",
    "    print(f\"Epoch: {epoch}\")\n",
    "    # training\n",
    "    train_loss = 0\n",
    "    # add a loop to toop through the training batches \n",
    "    for batch, (X,y) in enumerate(train_dataloader):\n",
    "        model_0.train()\n",
    "        # 1.Forward Pass\n",
    "        y_pred = model_0 (X)\n",
    "        \n",
    "        # 2. Calculate loss (per batch)\n",
    "        loss = loss_fn(y_pred,y)\n",
    "        train_loss += loss # accumulate train loss \n",
    "        \n",
    "        # 3. Optimizer zero grad\n",
    "        optimizer.zero_grad()\n",
    "        \n",
    "        # 4. Loss Backward\n",
    "        loss.backward()\n",
    "        \n",
    "        # 5. Optimizer Step \n",
    "        optimizer.step()\n",
    "        \n",
    "        # print out whats happening \n",
    "        if batch %400 == 0:\n",
    "            print(f\"Looked at {batch *len(X)/len(train_dataloader.dataset)}\")\n",
    "            \n",
    "            \n",
    "    # Divide total train loss by lenght of train dataloader \n",
    "    train_loss /= len(train_dataloader)\n",
    "    \n",
    "    #  testing \n",
    "    test_loss, test_acc = 0,0\n",
    "    model_0.eval()\n",
    "    with torch.inference_mode():\n",
    "        for X,y in test_dataloader:\n",
    "            # 1. Forward pess\n",
    "            test_pred = model_0(X)\n",
    "            \n",
    "            # 2. Calculate loss\n",
    "            test_loss += loss_fn(test_pred, y)\n",
    "\n",
    "            # 3. Calculate accuracy\n",
    "            test_acc += accuracy_fn(y_true = y, y_pred = test_pred.argmax(dim = 1))\n",
    "    \n",
    "    # caculate the test loss average per batch \n",
    "        test_loss /= len(test_dataloader)\n",
    "        \n",
    "        #  Calculate the test acc average per batch\\\n",
    "        test_acc /= len(test_dataloader)\n",
    "        \n",
    "        \n",
    "    # print whats happening \n",
    "    print(f\"\\n Train Loss: {train_loss:.4f} | Test Loss: {test_loss:.4f} | Test Acc: {test_acc:.4f}\")\n",
    "    \n",
    "# Calculate training time\n",
    "train_time_end_on_cpu = timer()\n",
    "total_train_time_model_0 = print_train_time(train_time_start_on_cpu, train_time_end_on_cpu,device=str(next(model_0.parameters()).device))"
   ]
  },
  {
   "cell_type": "code",
   "execution_count": 25,
   "id": "7ec7863b",
   "metadata": {},
   "outputs": [
    {
     "data": {
      "text/plain": [
       "60000"
      ]
     },
     "execution_count": 25,
     "metadata": {},
     "output_type": "execute_result"
    }
   ],
   "source": [
    "len(train_dataloader.dataset)"
   ]
  },
  {
   "cell_type": "code",
   "execution_count": 26,
   "id": "96dde3b1",
   "metadata": {},
   "outputs": [],
   "source": [
    "device = \"cuda\""
   ]
  },
  {
   "cell_type": "markdown",
   "id": "f4fa1783",
   "metadata": {},
   "source": [
    "## 4. Make prediction and get Model 0 Results"
   ]
  },
  {
   "cell_type": "code",
   "execution_count": 27,
   "id": "2d706d68",
   "metadata": {},
   "outputs": [
    {
     "data": {
      "text/plain": [
       "{'model_name': 'FashionMNISTModelV0',\n",
       " 'model_loss': 0.46279823780059814,\n",
       " 'model_acc': 83.64616613418531}"
      ]
     },
     "execution_count": 27,
     "metadata": {},
     "output_type": "execute_result"
    }
   ],
   "source": [
    "torch.manual_seed(42)\n",
    "\n",
    "def eval_model(model: torch.nn.Module,\n",
    "               data_loader: torch.utils.data.DataLoader,\n",
    "               loss_fn: torch.nn.Module,\n",
    "               accuracy_fn,\n",
    "               device = device):\n",
    "    loss, acc = 0,0\n",
    "    model.to(device)\n",
    "    model.eval()\n",
    "    with torch.inference_mode():\n",
    "        for X,y in data_loader:\n",
    "            X,y = X.to(device), y.to(device)\n",
    "            y_pred = model(X)\n",
    "            loss+= loss_fn(y_pred,y)\n",
    "            acc+= accuracy_fn(y_true=y, y_pred = y_pred.argmax(dim = 1))\n",
    "            \n",
    "    # Scale loss and acc to find the average loss/acc per batch\n",
    "        loss/= len(data_loader)\n",
    "        acc/= len(data_loader)\n",
    "    \n",
    "    return{\"model_name\" : model.__class__.__name__, # only works when model was created with class\n",
    "           \"model_loss\" : loss.item(),\n",
    "           \"model_acc\" : acc}\n",
    "    \n",
    "# Calculate model_0 result on test dataset\n",
    "model_0_results = eval_model(model = model_0, data_loader= test_dataloader,loss_fn = loss_fn , accuracy_fn= accuracy_fn)\n",
    "\n",
    "model_0_results\n",
    "    "
   ]
  },
  {
   "cell_type": "markdown",
   "id": "64519666",
   "metadata": {},
   "source": [
    "## 5. Setup Agnostic Code (USING GPU)"
   ]
  },
  {
   "cell_type": "code",
   "execution_count": 28,
   "id": "766d7290",
   "metadata": {},
   "outputs": [],
   "source": [
    "device = \"cuda\""
   ]
  },
  {
   "cell_type": "markdown",
   "id": "7a06e4af",
   "metadata": {},
   "source": [
    "## 6. Model 1: Building a better model with non-linearity\n",
    "\n",
    "We learned  about the power of non-linearity in notebook 02"
   ]
  },
  {
   "cell_type": "markdown",
   "id": "f2ec63e6",
   "metadata": {},
   "source": []
  },
  {
   "cell_type": "code",
   "execution_count": 29,
   "id": "f08d23b4",
   "metadata": {},
   "outputs": [],
   "source": [
    "# Create a mddel  with non-linear and linear-layer\n",
    "class FashionMNISTModelV1(nn.Module):\n",
    "    def __init__(self, input_shape: int, hidden_units: int, output_shape:int):\n",
    "        super().__init__()\n",
    "        self.layer_stack = nn.Sequential(\n",
    "            nn.Flatten(),\n",
    "            nn.Linear(input_shape, hidden_units),\n",
    "            nn.ReLU(),\n",
    "            nn.Linear(hidden_units, output_shape),\n",
    "            nn.ReLU()     \n",
    "        )\n",
    "        \n",
    "    def forward(self, x:torch.Tensor):\n",
    "        return self.layer_stack(x)"
   ]
  },
  {
   "cell_type": "code",
   "execution_count": 30,
   "id": "d4c4c503",
   "metadata": {},
   "outputs": [],
   "source": [
    "# Create an instance of model_1 \n",
    "torch.manual_seed(42)\n",
    "model_1 = FashionMNISTModelV1(784, 10, len(class_names)).to(device)"
   ]
  },
  {
   "cell_type": "markdown",
   "id": "45861e3b",
   "metadata": {},
   "source": [
    "### 6.1  Setup Loss, Optimizer dan evaluation metrics "
   ]
  },
  {
   "cell_type": "code",
   "execution_count": 31,
   "id": "330b417a",
   "metadata": {},
   "outputs": [],
   "source": [
    "from helper_function import accuracy_fn \n",
    "\n",
    "loss_fn = nn.CrossEntropyLoss()\n",
    "optimizer = torch.optim.SGD(model_1.parameters(), lr=0.1)"
   ]
  },
  {
   "cell_type": "markdown",
   "id": "66a5e73a",
   "metadata": {},
   "source": [
    "### 6.2 Functionizing training and evaluation testing loop\n",
    "\n",
    "lets create a function for:\n",
    "* training loop = `train_step()`\n",
    "* testing loop = `test_step()`"
   ]
  },
  {
   "cell_type": "code",
   "execution_count": 32,
   "id": "59143c37",
   "metadata": {},
   "outputs": [],
   "source": [
    "def train_step(model: torch.nn.Module,\n",
    "               data_loader: torch.utils.data.DataLoader,\n",
    "               loss_fn,\n",
    "               optimizer: torch.optim.Optimizer, \n",
    "               accuracy_fn, \n",
    "               device: torch.device = device):\n",
    "    train_loss = 0\n",
    "    train_acc = 0\n",
    "    # Put model in training mode \n",
    "    model.train()\n",
    "    # add a loop to toop through the training batches \n",
    "    for batch, (X,y) in enumerate(data_loader):\n",
    "        X,y = X.to(device), y.to(device)\n",
    "        # 1.Forward Pass\n",
    "        y_pred = model(X)\n",
    "        \n",
    "        # 2. Calculate loss and acc (per batch)\n",
    "        loss = loss_fn(y_pred,y)\n",
    "        train_loss += loss # accumulate train loss \n",
    "        train_acc +=accuracy_fn(y,y_pred.argmax(dim =1))\n",
    "        # 3. Optimizer zero grad\n",
    "        optimizer.zero_grad()\n",
    "        \n",
    "        # 4. Loss Backward\n",
    "        loss.backward()\n",
    "        \n",
    "        # 5. Optimizer Step \n",
    "        optimizer.step()\n",
    "        \n",
    "        # print out whats happening \n",
    "            \n",
    "            \n",
    "    # Divide total train loss and acc  by length of train dataloader \n",
    "    train_loss /= len(data_loader)\n",
    "    train_acc /= len(data_loader)\n",
    "    print(f\"Train Loss: {train_loss:.5f} | Train Acc: {train_acc:.2f}\")"
   ]
  },
  {
   "cell_type": "code",
   "execution_count": 33,
   "id": "67ed78f6",
   "metadata": {},
   "outputs": [],
   "source": [
    "def test_step(model: torch.nn.Module,\n",
    "              data_loader :torch.utils.data.DataLoader,\n",
    "              loss_fn: torch.nn.Module,\n",
    "              accuracy_fn,\n",
    "              device: torch.device= device):\n",
    "    test_loss, test_acc = 0,0\n",
    "    \n",
    "    # put the model in eval mode \n",
    "    model.eval()\n",
    "    \n",
    "    # turn on inference mod   \n",
    "    with torch.inference_mode():\n",
    "        for X,y in data_loader:\n",
    "            # send the data to target device\n",
    "            X,y = X.to(device), y.to(device)\n",
    "            \n",
    "            # 1. Forward Pass \n",
    "            test_pred = model(X)\n",
    "            \n",
    "            # 2. Calculate the loss/Acc\n",
    "            test_loss  += loss_fn(test_pred, y)\n",
    "            test_acc += accuracy_fn(y,test_pred.argmax(dim = 1))\n",
    "            \n",
    "        \n",
    "        #  Adjust metrics and print out \n",
    "        test_loss /= len(data_loader)\n",
    "        test_acc /= len(data_loader)\n",
    "        print(f\"Test Loss: {test_loss:.5f} | Test Acc: {test_acc:.2f}\")\n",
    "        \n",
    "            \n",
    "            \n",
    "            "
   ]
  },
  {
   "cell_type": "code",
   "execution_count": 34,
   "id": "4c4a999f",
   "metadata": {},
   "outputs": [
    {
     "data": {
      "application/vnd.jupyter.widget-view+json": {
       "model_id": "50793007dd5946c6bb7a17152fb45cc7",
       "version_major": 2,
       "version_minor": 0
      },
      "text/plain": [
       "  0%|          | 0/10 [00:00<?, ?it/s]"
      ]
     },
     "metadata": {},
     "output_type": "display_data"
    },
    {
     "name": "stdout",
     "output_type": "stream",
     "text": [
      "Epoch 0\n",
      "---------\n",
      "Train Loss: 1.09199 | Train Acc: 61.34\n",
      "Test Loss: 0.95636 | Test Acc: 65.00\n",
      "Epoch 1\n",
      "---------\n",
      "Train Loss: 0.78101 | Train Acc: 71.93\n",
      "Test Loss: 0.72227 | Test Acc: 73.91\n",
      "Epoch 2\n",
      "---------\n",
      "Train Loss: 0.67027 | Train Acc: 75.94\n",
      "Test Loss: 0.68500 | Test Acc: 75.02\n",
      "Epoch 3\n",
      "---------\n",
      "Train Loss: 0.64384 | Train Acc: 76.52\n",
      "Test Loss: 0.65079 | Test Acc: 76.13\n",
      "Epoch 4\n",
      "---------\n",
      "Train Loss: 0.62892 | Train Acc: 77.00\n",
      "Test Loss: 0.65277 | Test Acc: 75.95\n",
      "Epoch 5\n",
      "---------\n",
      "Train Loss: 0.61576 | Train Acc: 77.41\n",
      "Test Loss: 0.64104 | Test Acc: 76.50\n",
      "Epoch 6\n",
      "---------\n",
      "Train Loss: 0.60668 | Train Acc: 77.78\n",
      "Test Loss: 0.62651 | Test Acc: 76.61\n",
      "Epoch 7\n",
      "---------\n",
      "Train Loss: 0.45148 | Train Acc: 83.94\n",
      "Test Loss: 0.45020 | Test Acc: 84.39\n",
      "Epoch 8\n",
      "---------\n",
      "Train Loss: 0.39906 | Train Acc: 85.95\n",
      "Test Loss: 0.43924 | Test Acc: 84.88\n",
      "Epoch 9\n",
      "---------\n",
      "Train Loss: 0.39334 | Train Acc: 86.11\n",
      "Test Loss: 0.43372 | Test Acc: 84.89\n",
      "train time on cuda : 105.362\n"
     ]
    }
   ],
   "source": [
    "torch.manual_seed(42)\n",
    "\n",
    "from timeit import default_timer as timer \n",
    "train_time_start_on_gpu = timer()\n",
    "\n",
    "epochs = 10\n",
    "\n",
    "# create a optimization and evaluation loop using train_step() and test_step()\n",
    "for epoch in tqdm(range(epochs)):\n",
    "    print(f\"Epoch {epoch}\\n---------\")\n",
    "    train_step(model_1,train_dataloader,loss_fn,optimizer,accuracy_fn,device)\n",
    "    test_step(model_1,test_dataloader,loss_fn,accuracy_fn, device)\n",
    "    \n",
    "    \n",
    "    train_time_end_on_gpu = timer()\n",
    "total_train_time_model_1 = print_train_time(train_time_start_on_gpu,train_time_end_on_gpu, device)"
   ]
  },
  {
   "cell_type": "code",
   "execution_count": 35,
   "id": "39737e2d",
   "metadata": {},
   "outputs": [
    {
     "data": {
      "text/plain": [
       "{'model_name': 'FashionMNISTModelV1',\n",
       " 'model_loss': 0.4337212145328522,\n",
       " 'model_acc': 84.89416932907348}"
      ]
     },
     "execution_count": 35,
     "metadata": {},
     "output_type": "execute_result"
    }
   ],
   "source": [
    "model_1_results = eval_model(model_1, test_dataloader, loss_fn, accuracy_fn)\n",
    "model_1_results"
   ]
  },
  {
   "cell_type": "markdown",
   "id": "95b8478c",
   "metadata": {},
   "source": [
    "## 7. Model 2: Building a Convolutional Neural Network (CNN)\n",
    "\n",
    "CNN's are also known ConvNets.\n",
    "\n",
    "CNN's are known for their capabilities to find pattern in visual data"
   ]
  },
  {
   "cell_type": "code",
   "execution_count": 36,
   "id": "a88d5f8d",
   "metadata": {},
   "outputs": [],
   "source": [
    "# This code snippet defines a convolutional neural network model called `FashionMNISTModelV2` using PyTorch's `nn.Module` class. The model architecture is designed to replicate the TinyVGG model from the CNN Explainer website.\n",
    "# Create a convolutional neural network\n",
    "\n",
    "class FashionMNISTModelV2(nn.Module):\n",
    "    \"\"\" Model architecture that replicates the TinyVGG\n",
    "        Model from CNN Explainer Website\n",
    "    \"\"\"\n",
    "    def __init__(self, input_shape:int, hidden_units: int, output_shape:int ):\n",
    "        super().__init__()\n",
    "        # Create a conv layer\n",
    "        self.conv_block_1 = nn.Sequential(\n",
    "            nn.Conv2d(in_channels =input_shape,\n",
    "                      out_channels = hidden_units,\n",
    "                      kernel_size = 3,\n",
    "                      stride = 1,\n",
    "                      padding  = 1),\n",
    "        # values we can set ourselves in our NN's are called Hyperparamters)\n",
    "        nn.ReLU(),\n",
    "        nn.Conv2d(in_channels = hidden_units, \n",
    "            out_channels = hidden_units,\n",
    "            kernel_size = 3,\n",
    "            stride =1,\n",
    "            padding =1),\n",
    "        nn.ReLU(),\n",
    "        nn.MaxPool2d(kernel_size=2)\n",
    "       )\n",
    "        self.conv_block_2 = nn.Sequential(\n",
    "            nn.Conv2d(in_channels =hidden_units,\n",
    "                      out_channels = hidden_units,\n",
    "                      kernel_size = 3,\n",
    "                      stride = 1,\n",
    "                      padding  = 1),\n",
    "            nn.ReLU(),\n",
    "            nn.Conv2d(in_channels = hidden_units, \n",
    "                out_channels = hidden_units,\n",
    "                kernel_size = 3,\n",
    "                stride =1,\n",
    "                padding =1),\n",
    "            nn.ReLU(),\n",
    "            nn.MaxPool2d(kernel_size=2)\n",
    "            \n",
    "        )\n",
    "        \n",
    "        self.classifier = nn.Sequential(\n",
    "            nn.Flatten(),\n",
    "            nn.Linear(in_features = hidden_units *7*7, # There trick to calculate\n",
    "                      out_features=output_shape)\n",
    "            # nn.LazyLinear(output_shape)\n",
    "        )\n",
    "    \n",
    "    def forward(self,x):\n",
    "        x = self.conv_block_1(x)\n",
    "\n",
    "        x = self.conv_block_2(x)\n",
    "\n",
    "        x = self.classifier(x)\n",
    "        return x \n",
    "        "
   ]
  },
  {
   "cell_type": "code",
   "execution_count": 37,
   "id": "134a698b",
   "metadata": {},
   "outputs": [
    {
     "name": "stdout",
     "output_type": "stream",
     "text": [
      "torch.Size([32, 1, 28, 28]) torch.Size([32])\n"
     ]
    }
   ],
   "source": [
    "# ambil 1 batch\n",
    "X, y = next(iter(train_dataloader))\n",
    "print(X.shape, y.shape)\n"
   ]
  },
  {
   "cell_type": "code",
   "execution_count": 38,
   "id": "0413edf8",
   "metadata": {},
   "outputs": [],
   "source": [
    "torch.manual_seed(42)\n",
    "model_2 = FashionMNISTModelV2(input_shape= 1,\n",
    "                              hidden_units= 15,\n",
    "                              output_shape = len(class_names)).to(device)"
   ]
  },
  {
   "cell_type": "markdown",
   "id": "7da51497",
   "metadata": {},
   "source": [
    "### 7.1 Stepping through `nn.Conv2d()`"
   ]
  },
  {
   "cell_type": "code",
   "execution_count": 39,
   "id": "dfc54695",
   "metadata": {},
   "outputs": [],
   "source": [
    "torch.manual_seed(42)\n",
    "\n",
    "# Create a batch of images\n",
    "images = torch.rand(size =(32,3,64,64))\n",
    "test_images = images[0]\n",
    "\n"
   ]
  },
  {
   "cell_type": "code",
   "execution_count": 40,
   "id": "e3f54515",
   "metadata": {},
   "outputs": [
    {
     "data": {
      "text/plain": [
       "torch.Size([3, 64, 64])"
      ]
     },
     "execution_count": 40,
     "metadata": {},
     "output_type": "execute_result"
    }
   ],
   "source": [
    "test_images.shape"
   ]
  },
  {
   "cell_type": "code",
   "execution_count": 41,
   "id": "fed77013",
   "metadata": {},
   "outputs": [
    {
     "data": {
      "text/plain": [
       "torch.Size([1, 10, 64, 64])"
      ]
     },
     "execution_count": 41,
     "metadata": {},
     "output_type": "execute_result"
    }
   ],
   "source": [
    "torch.manual_seed(42)\n",
    "conv_layer = nn.Conv2d(in_channels=3,\n",
    "                       out_channels= 10,\n",
    "                       kernel_size=3,\n",
    "                       stride=1,\n",
    "                       padding=1)\n",
    "\n",
    "conv_output = conv_layer(test_images.unsqueeze(0))\n",
    "conv_output.shape"
   ]
  },
  {
   "cell_type": "markdown",
   "id": "f0863edd",
   "metadata": {},
   "source": [
    "### 7.2 Stepping through `nn.MaxPool2d()`"
   ]
  },
  {
   "cell_type": "code",
   "execution_count": 42,
   "id": "cdec8345",
   "metadata": {},
   "outputs": [],
   "source": [
    "# Create a sample nn.MaxPool2d layer\n",
    "max_pool_layer = nn.MaxPool2d(kernel_size=2)\n",
    "\n",
    "# skip dulu mamlas "
   ]
  },
  {
   "cell_type": "markdown",
   "id": "fccb6c0e",
   "metadata": {},
   "source": [
    "### 7.3 Setup a loss function and optimizer for `model_2`"
   ]
  },
  {
   "cell_type": "code",
   "execution_count": 43,
   "id": "ad7e5ad7",
   "metadata": {},
   "outputs": [],
   "source": [
    "from helper_function import accuracy_fn\n",
    "\n",
    "loss_fn = nn.CrossEntropyLoss()\n",
    "optimizer = torch.optim.SGD(params= model_2.parameters(), lr=0.1)\n"
   ]
  },
  {
   "cell_type": "markdown",
   "id": "98b1824c",
   "metadata": {},
   "source": [
    "### 7.4 Training and testing model_2 using our training and test functions"
   ]
  },
  {
   "cell_type": "code",
   "execution_count": 44,
   "id": "971d4a88",
   "metadata": {},
   "outputs": [
    {
     "data": {
      "application/vnd.jupyter.widget-view+json": {
       "model_id": "d3cce317a3a74a6ea29b5f41d62fe9d7",
       "version_major": 2,
       "version_minor": 0
      },
      "text/plain": [
       "  0%|          | 0/10 [00:00<?, ?it/s]"
      ]
     },
     "metadata": {},
     "output_type": "display_data"
    },
    {
     "name": "stdout",
     "output_type": "stream",
     "text": [
      "Epoch: 1\n",
      "------\n",
      "Train Loss: 0.59666 | Train Acc: 78.23\n",
      "Test Loss: 0.38308 | Test Acc: 86.24\n",
      "Epoch: 2\n",
      "------\n",
      "Train Loss: 0.34149 | Train Acc: 87.73\n",
      "Test Loss: 0.32165 | Test Acc: 88.26\n",
      "Epoch: 3\n",
      "------\n",
      "Train Loss: 0.29719 | Train Acc: 89.44\n",
      "Test Loss: 0.29070 | Test Acc: 89.45\n",
      "Epoch: 4\n",
      "------\n",
      "Train Loss: 0.27474 | Train Acc: 90.16\n",
      "Test Loss: 0.28043 | Test Acc: 89.53\n",
      "Epoch: 5\n",
      "------\n",
      "Train Loss: 0.25832 | Train Acc: 90.78\n",
      "Test Loss: 0.28517 | Test Acc: 89.84\n",
      "Epoch: 6\n",
      "------\n",
      "Train Loss: 0.24808 | Train Acc: 91.19\n",
      "Test Loss: 0.26948 | Test Acc: 90.25\n",
      "Epoch: 7\n",
      "------\n",
      "Train Loss: 0.23893 | Train Acc: 91.48\n",
      "Test Loss: 0.27362 | Test Acc: 90.09\n",
      "Epoch: 8\n",
      "------\n",
      "Train Loss: 0.23250 | Train Acc: 91.66\n",
      "Test Loss: 0.25664 | Test Acc: 90.74\n",
      "Epoch: 9\n",
      "------\n",
      "Train Loss: 0.22556 | Train Acc: 91.78\n",
      "Test Loss: 0.27862 | Test Acc: 89.89\n",
      "Epoch: 10\n",
      "------\n",
      "Train Loss: 0.22154 | Train Acc: 91.97\n",
      "Test Loss: 0.27793 | Test Acc: 89.87\n",
      "train time on cuda : 116.193\n"
     ]
    }
   ],
   "source": [
    "torch.manual_seed(42)\n",
    "torch.cuda.manual_seed(42)\n",
    "\n",
    "# Measure time\n",
    "from timeit import default_timer as timer \n",
    "start= timer()\n",
    "\n",
    "# train and test model \n",
    "epochs = 10\n",
    "for epoch in tqdm(range(epochs)):\n",
    "    print(f\"Epoch: {epoch + 1}\\n------\")\n",
    "    train_step(model_2,train_dataloader,loss_fn,optimizer,accuracy_fn,device = device)\n",
    "    \n",
    "    test_step(model_2,test_dataloader,loss_fn,accuracy_fn,device)\n",
    "    \n",
    "\n",
    "end = timer()\n",
    "\n",
    "total_time = print_train_time(start,end,device)\n"
   ]
  },
  {
   "cell_type": "code",
   "execution_count": 45,
   "id": "d3e78a73",
   "metadata": {},
   "outputs": [
    {
     "data": {
      "text/plain": [
       "{'model_name': 'FashionMNISTModelV2',\n",
       " 'model_loss': 0.2779271602630615,\n",
       " 'model_acc': 89.86621405750799}"
      ]
     },
     "execution_count": 45,
     "metadata": {},
     "output_type": "execute_result"
    }
   ],
   "source": [
    "model_2_results = eval_model(\n",
    "    model_2,\n",
    "    test_dataloader,\n",
    "    loss_fn,\n",
    "    accuracy_fn\n",
    ")\n",
    "model_2_results"
   ]
  },
  {
   "cell_type": "markdown",
   "id": "a0f4fcbf",
   "metadata": {},
   "source": [
    "## 8. Compare model results and training time \n",
    "\n",
    "We've trained three different models.\n",
    "\n",
    "1. `model_0` - our baseline model with two nn.Linear() layers.\n",
    "2. `model_1` - the same setup as our baseline model except with nn.ReLU() layers in between the nn.Linear() layers.\n",
    "3. `model_2` - our first CNN model that mimics the TinyVGG architecture on the CNN Explainer website."
   ]
  },
  {
   "cell_type": "code",
   "execution_count": 46,
   "id": "a5d81a9d",
   "metadata": {},
   "outputs": [
    {
     "data": {
      "application/vnd.microsoft.datawrangler.viewer.v0+json": {
       "columns": [
        {
         "name": "index",
         "rawType": "int64",
         "type": "integer"
        },
        {
         "name": "model_name",
         "rawType": "object",
         "type": "string"
        },
        {
         "name": "model_loss",
         "rawType": "float64",
         "type": "float"
        },
        {
         "name": "model_acc",
         "rawType": "float64",
         "type": "float"
        }
       ],
       "ref": "ab016996-8eb5-4c6c-8bbb-7c5502ea243a",
       "rows": [
        [
         "0",
         "FashionMNISTModelV0",
         "0.46279823780059814",
         "83.64616613418531"
        ],
        [
         "1",
         "FashionMNISTModelV1",
         "0.4337212145328522",
         "84.89416932907348"
        ],
        [
         "2",
         "FashionMNISTModelV2",
         "0.2779271602630615",
         "89.86621405750799"
        ]
       ],
       "shape": {
        "columns": 3,
        "rows": 3
       }
      },
      "text/html": [
       "<div>\n",
       "<style scoped>\n",
       "    .dataframe tbody tr th:only-of-type {\n",
       "        vertical-align: middle;\n",
       "    }\n",
       "\n",
       "    .dataframe tbody tr th {\n",
       "        vertical-align: top;\n",
       "    }\n",
       "\n",
       "    .dataframe thead th {\n",
       "        text-align: right;\n",
       "    }\n",
       "</style>\n",
       "<table border=\"1\" class=\"dataframe\">\n",
       "  <thead>\n",
       "    <tr style=\"text-align: right;\">\n",
       "      <th></th>\n",
       "      <th>model_name</th>\n",
       "      <th>model_loss</th>\n",
       "      <th>model_acc</th>\n",
       "    </tr>\n",
       "  </thead>\n",
       "  <tbody>\n",
       "    <tr>\n",
       "      <th>0</th>\n",
       "      <td>FashionMNISTModelV0</td>\n",
       "      <td>0.462798</td>\n",
       "      <td>83.646166</td>\n",
       "    </tr>\n",
       "    <tr>\n",
       "      <th>1</th>\n",
       "      <td>FashionMNISTModelV1</td>\n",
       "      <td>0.433721</td>\n",
       "      <td>84.894169</td>\n",
       "    </tr>\n",
       "    <tr>\n",
       "      <th>2</th>\n",
       "      <td>FashionMNISTModelV2</td>\n",
       "      <td>0.277927</td>\n",
       "      <td>89.866214</td>\n",
       "    </tr>\n",
       "  </tbody>\n",
       "</table>\n",
       "</div>"
      ],
      "text/plain": [
       "            model_name  model_loss  model_acc\n",
       "0  FashionMNISTModelV0    0.462798  83.646166\n",
       "1  FashionMNISTModelV1    0.433721  84.894169\n",
       "2  FashionMNISTModelV2    0.277927  89.866214"
      ]
     },
     "execution_count": 46,
     "metadata": {},
     "output_type": "execute_result"
    }
   ],
   "source": [
    "import pandas as pd \n",
    "compare_results = pd.DataFrame([model_0_results, model_1_results, model_2_results])\n",
    "compare_results"
   ]
  },
  {
   "cell_type": "code",
   "execution_count": 47,
   "id": "c8949131",
   "metadata": {},
   "outputs": [
    {
     "data": {
      "application/vnd.microsoft.datawrangler.viewer.v0+json": {
       "columns": [
        {
         "name": "index",
         "rawType": "int64",
         "type": "integer"
        },
        {
         "name": "model_name",
         "rawType": "object",
         "type": "string"
        },
        {
         "name": "model_loss",
         "rawType": "float64",
         "type": "float"
        },
        {
         "name": "model_acc",
         "rawType": "float64",
         "type": "float"
        },
        {
         "name": "training_time",
         "rawType": "float64",
         "type": "float"
        }
       ],
       "ref": "7b295741-366a-4a1d-b73c-ccceb536d2ac",
       "rows": [
        [
         "0",
         "FashionMNISTModelV0",
         "0.46279823780059814",
         "83.64616613418531",
         "79.72339649999958"
        ],
        [
         "1",
         "FashionMNISTModelV1",
         "0.4337212145328522",
         "84.89416932907348",
         "105.36248590000014"
        ],
        [
         "2",
         "FashionMNISTModelV2",
         "0.2779271602630615",
         "89.86621405750799",
         "116.19257639999978"
        ]
       ],
       "shape": {
        "columns": 4,
        "rows": 3
       }
      },
      "text/html": [
       "<div>\n",
       "<style scoped>\n",
       "    .dataframe tbody tr th:only-of-type {\n",
       "        vertical-align: middle;\n",
       "    }\n",
       "\n",
       "    .dataframe tbody tr th {\n",
       "        vertical-align: top;\n",
       "    }\n",
       "\n",
       "    .dataframe thead th {\n",
       "        text-align: right;\n",
       "    }\n",
       "</style>\n",
       "<table border=\"1\" class=\"dataframe\">\n",
       "  <thead>\n",
       "    <tr style=\"text-align: right;\">\n",
       "      <th></th>\n",
       "      <th>model_name</th>\n",
       "      <th>model_loss</th>\n",
       "      <th>model_acc</th>\n",
       "      <th>training_time</th>\n",
       "    </tr>\n",
       "  </thead>\n",
       "  <tbody>\n",
       "    <tr>\n",
       "      <th>0</th>\n",
       "      <td>FashionMNISTModelV0</td>\n",
       "      <td>0.462798</td>\n",
       "      <td>83.646166</td>\n",
       "      <td>79.723396</td>\n",
       "    </tr>\n",
       "    <tr>\n",
       "      <th>1</th>\n",
       "      <td>FashionMNISTModelV1</td>\n",
       "      <td>0.433721</td>\n",
       "      <td>84.894169</td>\n",
       "      <td>105.362486</td>\n",
       "    </tr>\n",
       "    <tr>\n",
       "      <th>2</th>\n",
       "      <td>FashionMNISTModelV2</td>\n",
       "      <td>0.277927</td>\n",
       "      <td>89.866214</td>\n",
       "      <td>116.192576</td>\n",
       "    </tr>\n",
       "  </tbody>\n",
       "</table>\n",
       "</div>"
      ],
      "text/plain": [
       "            model_name  model_loss  model_acc  training_time\n",
       "0  FashionMNISTModelV0    0.462798  83.646166      79.723396\n",
       "1  FashionMNISTModelV1    0.433721  84.894169     105.362486\n",
       "2  FashionMNISTModelV2    0.277927  89.866214     116.192576"
      ]
     },
     "execution_count": 47,
     "metadata": {},
     "output_type": "execute_result"
    }
   ],
   "source": [
    "compare_results[\"training_time\"] = [total_train_time_model_0,\n",
    "                                    total_train_time_model_1,\n",
    "                                    total_time]\n",
    "compare_results"
   ]
  },
  {
   "cell_type": "code",
   "execution_count": 55,
   "id": "1e0041fd",
   "metadata": {},
   "outputs": [
    {
     "data": {
      "application/vnd.microsoft.datawrangler.viewer.v0+json": {
       "columns": [
        {
         "name": "index",
         "rawType": "int64",
         "type": "integer"
        },
        {
         "name": "model_name",
         "rawType": "object",
         "type": "string"
        },
        {
         "name": "model_loss",
         "rawType": "float64",
         "type": "float"
        },
        {
         "name": "model_acc",
         "rawType": "float64",
         "type": "float"
        },
        {
         "name": "training_time",
         "rawType": "float64",
         "type": "float"
        },
        {
         "name": "Device",
         "rawType": "object",
         "type": "string"
        }
       ],
       "ref": "3a1b4bca-d552-425c-8a43-af89ff898358",
       "rows": [
        [
         "0",
         "FashionMNISTModelV0",
         "0.46279823780059814",
         "83.64616613418531",
         "79.72339649999958",
         "CPU (Ryzen 5 5600)"
        ],
        [
         "1",
         "FashionMNISTModelV1",
         "0.4337212145328522",
         "84.89416932907348",
         "105.36248590000014",
         "GPU (RTX 4060)"
        ],
        [
         "2",
         "FashionMNISTModelV2",
         "0.2779271602630615",
         "89.86621405750799",
         "116.19257639999978",
         "GPU (RTX 4060)"
        ]
       ],
       "shape": {
        "columns": 5,
        "rows": 3
       }
      },
      "text/html": [
       "<div>\n",
       "<style scoped>\n",
       "    .dataframe tbody tr th:only-of-type {\n",
       "        vertical-align: middle;\n",
       "    }\n",
       "\n",
       "    .dataframe tbody tr th {\n",
       "        vertical-align: top;\n",
       "    }\n",
       "\n",
       "    .dataframe thead th {\n",
       "        text-align: right;\n",
       "    }\n",
       "</style>\n",
       "<table border=\"1\" class=\"dataframe\">\n",
       "  <thead>\n",
       "    <tr style=\"text-align: right;\">\n",
       "      <th></th>\n",
       "      <th>model_name</th>\n",
       "      <th>model_loss</th>\n",
       "      <th>model_acc</th>\n",
       "      <th>training_time</th>\n",
       "      <th>Device</th>\n",
       "    </tr>\n",
       "  </thead>\n",
       "  <tbody>\n",
       "    <tr>\n",
       "      <th>0</th>\n",
       "      <td>FashionMNISTModelV0</td>\n",
       "      <td>0.462798</td>\n",
       "      <td>83.646166</td>\n",
       "      <td>79.723396</td>\n",
       "      <td>CPU (Ryzen 5 5600)</td>\n",
       "    </tr>\n",
       "    <tr>\n",
       "      <th>1</th>\n",
       "      <td>FashionMNISTModelV1</td>\n",
       "      <td>0.433721</td>\n",
       "      <td>84.894169</td>\n",
       "      <td>105.362486</td>\n",
       "      <td>GPU (RTX 4060)</td>\n",
       "    </tr>\n",
       "    <tr>\n",
       "      <th>2</th>\n",
       "      <td>FashionMNISTModelV2</td>\n",
       "      <td>0.277927</td>\n",
       "      <td>89.866214</td>\n",
       "      <td>116.192576</td>\n",
       "      <td>GPU (RTX 4060)</td>\n",
       "    </tr>\n",
       "  </tbody>\n",
       "</table>\n",
       "</div>"
      ],
      "text/plain": [
       "            model_name  model_loss  model_acc  training_time  \\\n",
       "0  FashionMNISTModelV0    0.462798  83.646166      79.723396   \n",
       "1  FashionMNISTModelV1    0.433721  84.894169     105.362486   \n",
       "2  FashionMNISTModelV2    0.277927  89.866214     116.192576   \n",
       "\n",
       "               Device  \n",
       "0  CPU (Ryzen 5 5600)  \n",
       "1      GPU (RTX 4060)  \n",
       "2      GPU (RTX 4060)  "
      ]
     },
     "execution_count": 55,
     "metadata": {},
     "output_type": "execute_result"
    }
   ],
   "source": [
    "compare_results[\"Device\"] = compare_results[\"model_name\"].apply(lambda x: \"CPU (Ryzen 5 5600)\" if x == \"FashionMNISTModelV0\" else \"GPU (RTX 4060)\")\n",
    "compare_results"
   ]
  },
  {
   "cell_type": "code",
   "execution_count": 48,
   "id": "9d49bfc7",
   "metadata": {},
   "outputs": [
    {
     "data": {
      "image/png": "[encoded data removed]",
      "text/plain": [
       "<Figure size 640x480 with 1 Axes>"
      ]
     },
     "metadata": {},
     "output_type": "display_data"
    }
   ],
   "source": [
    "# Visualize model result \n",
    "compare_results.set_index(\"model_name\")[\"model_acc\"].plot(kind = \"barh\")\n",
    "plt.xlabel(\"accuracy (%)\")\n",
    "plt.ylabel(\"model\");"
   ]
  },
  {
   "cell_type": "markdown",
   "id": "a7837137",
   "metadata": {},
   "source": [
    "## 9. Make and evaluate random prediction with best model "
   ]
  },
  {
   "cell_type": "code",
   "execution_count": 57,
   "id": "4da0a361",
   "metadata": {},
   "outputs": [],
   "source": [
    "def make_predictions(model: torch.nn.Module,\n",
    "                     data: list,\n",
    "                     device: torch.device = device):\n",
    "    pred_probs = []\n",
    "    model.eval()\n",
    "    with torch.inference_mode():\n",
    "        for sample in data:\n",
    "            # prepare sample\n",
    "            sample = torch.unsqueeze(sample, dim =00).to(device)\n",
    "            \n",
    "            # Forward pass (model outputs raw logit)\n",
    "            pred_logit = model(sample)\n",
    "            \n",
    "            # forward pass(model output raw logits)\n",
    "            pred_prob = torch.softmax(pred_logit.squeeze(), dim =0) ## note: perform softmax on the \"logits\" dimension, not \"batch\" dimension (in this case we have a batch size of 1, so can perform on dim=0)\n",
    "            \n",
    "            # get preds_prob off GPU for futher calculations\n",
    "            pred_probs.append(pred_prob.cpu())\n",
    "            \n",
    "    # Stack the pred_probs to turn list into a tensor\n",
    "    return torch.stack(pred_probs)"
   ]
  },
  {
   "cell_type": "code",
   "execution_count": 58,
   "id": "e4da61ab",
   "metadata": {},
   "outputs": [
    {
     "name": "stdout",
     "output_type": "stream",
     "text": [
      "Test sample image shape: torch.Size([1, 28, 28])\n",
      "Test sample label: 5 (Sandal)\n"
     ]
    }
   ],
   "source": [
    "import random\n",
    "random.seed(42)\n",
    "test_samples = []\n",
    "test_labels = []\n",
    "for sample, label in random.sample(list(test_data), k=9):\n",
    "    test_samples.append(sample)\n",
    "    test_labels.append(label)\n",
    "\n",
    "# View the first test sample shape and label\n",
    "print(f\"Test sample image shape: {test_samples[0].shape}\\nTest sample label: {test_labels[0]} ({class_names[test_labels[0]]})\")"
   ]
  },
  {
   "cell_type": "code",
   "execution_count": 59,
   "id": "1aea8ae5",
   "metadata": {},
   "outputs": [
    {
     "data": {
      "text/plain": [
       "tensor([[4.9742e-11, 8.3441e-13, 2.3174e-10, 7.8880e-14, 3.3455e-12, 1.0000e+00,\n",
       "         1.9766e-11, 3.2735e-10, 1.7794e-09, 2.4117e-06],\n",
       "        [1.0286e-03, 9.8911e-01, 1.6511e-04, 5.1766e-03, 4.2514e-03, 1.1041e-05,\n",
       "         1.1894e-04, 3.6612e-05, 6.6986e-05, 3.1860e-05]])"
      ]
     },
     "execution_count": 59,
     "metadata": {},
     "output_type": "execute_result"
    }
   ],
   "source": [
    "pred_prob = make_predictions(model_2, test_samples)\n",
    "pred_prob[:2]"
   ]
  },
  {
   "cell_type": "code",
   "execution_count": 63,
   "id": "4a0342e0",
   "metadata": {},
   "outputs": [
    {
     "data": {
      "text/plain": [
       "tensor([5, 1, 7, 4, 3, 6, 4, 7, 1])"
      ]
     },
     "execution_count": 63,
     "metadata": {},
     "output_type": "execute_result"
    }
   ],
   "source": [
    "# Turn the prediction probabilities into prediction labels by taking the argmax()\n",
    "pred_classes = pred_prob.argmax(dim = 1)\n",
    "pred_classes"
   ]
  },
  {
   "cell_type": "code",
   "execution_count": 66,
   "id": "e42c7dec",
   "metadata": {},
   "outputs": [
    {
     "data": {
      "image/png": "[encoded data removed]",
      "text/plain": [
       "<Figure size 900x900 with 9 Axes>"
      ]
     },
     "metadata": {},
     "output_type": "display_data"
    }
   ],
   "source": [
    "# plot predictions\n",
    "plt.figure(figsize = (9,9))\n",
    "nrows = 3\n",
    "ncols = 3\n",
    "\n",
    "for i, sample in enumerate(test_samples):\n",
    "    # create subplot \n",
    "    plt.subplot(nrows, ncols, i+1)\n",
    "    \n",
    "    # plot the target image  \n",
    "    plt.imshow(sample.squeeze(), cmap =\"gray\")\n",
    "    \n",
    "    # find the predictions label (in text from e.g \"sandal\")\n",
    "    pred_label = class_names[pred_classes[i]]\n",
    "    \n",
    "    # get the truth label (in text from e.g \"Tshirt\")\n",
    "    truth_label = class_names[test_labels[i]]\n",
    "    \n",
    "    # Create the title text of the plot\n",
    "    title_text = f\"Pred: {pred_label} | Truth: {truth_label}\"\n",
    "    \n",
    "    if pred_label == truth_label:\n",
    "        plt.title(title_text, fontsize=10, c=\"g\") # green text if correct\n",
    "    else:\n",
    "        plt.title(title_text, fontsize=10, c=\"r\") # red text if wrong\n",
    "    plt.axis(False);\n",
    "    "
   ]
  },
  {
   "cell_type": "code",
   "execution_count": 68,
   "id": "e4fdf412",
   "metadata": {},
   "outputs": [
    {
     "data": {
      "application/vnd.jupyter.widget-view+json": {
       "model_id": "5e898c211fd14fcfaa36abcf64e7d22a",
       "version_major": 2,
       "version_minor": 0
      },
      "text/plain": [
       "Making Prediction:   0%|          | 0/313 [00:00<?, ?it/s]"
      ]
     },
     "metadata": {},
     "output_type": "display_data"
    }
   ],
   "source": [
    "from tqdm.auto import tqdm \n",
    "\n",
    "# make prediction with trained model \n",
    "y_preds = []\n",
    "model_2.eval()\n",
    "with torch.inference_mode():\n",
    "    for X,y in tqdm(test_dataloader, desc = \"Making Prediction\"):\n",
    "        # send data and targets to target device \n",
    "        X,y = X.to(device), y.to(device)\n",
    "\n",
    "        # do the forward pass\n",
    "        y_logit = model_2(X)\n",
    "        \n",
    "        # Turn predictions from logits -> prediction probabilities -> predictions labels\n",
    "        y_pred = torch.softmax( y_logit, dim = 1).argmax(dim = 1)\n",
    "        \n",
    "        # put the prediction to CPU for evalution \n",
    "        y_preds.append(y_pred.cpu())\n",
    "        \n",
    "# Concatenate list of prediction into a  tensor \n",
    "y_pred_tensor = torch.cat(y_preds)"
   ]
  },
  {
   "cell_type": "code",
   "execution_count": 70,
   "id": "850ede9e",
   "metadata": {},
   "outputs": [
    {
     "data": {
      "text/plain": [
       "tensor([9, 2, 1,  ..., 8, 1, 5])"
      ]
     },
     "execution_count": 70,
     "metadata": {},
     "output_type": "execute_result"
    }
   ],
   "source": [
    "y_pred_tensor"
   ]
  },
  {
   "cell_type": "code",
   "execution_count": 80,
   "id": "d25b0725",
   "metadata": {},
   "outputs": [
    {
     "data": {
      "image/png": "[encoded data removed]",
      "text/plain": [
       "<Figure size 1000x700 with 1 Axes>"
      ]
     },
     "metadata": {},
     "output_type": "display_data"
    }
   ],
   "source": [
    "from torchmetrics import ConfusionMatrix\n",
    "from mlxtend.plotting import plot_confusion_matrix\n",
    "\n",
    "confmat = ConfusionMatrix(\"multiclass\", num_classes=len(class_names))\n",
    "confmat_tensor = confmat(preds= y_pred_tensor, target = test_data.targets)\n",
    "\n",
    "fig,ax = plot_confusion_matrix(\n",
    "    conf_mat= confmat_tensor.numpy(),\n",
    "    class_names= class_names,\n",
    "    figsize= (10,7)\n",
    ")"
   ]
  },
  {
   "cell_type": "code",
   "execution_count": 81,
   "id": "cbf52ddf",
   "metadata": {},
   "outputs": [
    {
     "name": "stdout",
     "output_type": "stream",
     "text": [
      "Saving model to: models\\03_pytorch_computer_vision_model_2.pth\n"
     ]
    }
   ],
   "source": [
    "from pathlib import Path\n",
    "\n",
    "# Create models directory (if it doesn't already exist), see: https://docs.python.org/3/library/pathlib.html#pathlib.Path.mkdir\n",
    "MODEL_PATH = Path(\"models\")\n",
    "MODEL_PATH.mkdir(parents=True, # create parent directories if needed\n",
    "                 exist_ok=True # if models directory already exists, don't error\n",
    ")\n",
    "\n",
    "# Create model save path\n",
    "MODEL_NAME = \"03_pytorch_computer_vision_model_2.pth\"\n",
    "MODEL_SAVE_PATH = MODEL_PATH / MODEL_NAME\n",
    "\n",
    "# Save the model state dict\n",
    "print(f\"Saving model to: {MODEL_SAVE_PATH}\")\n",
    "torch.save(obj=model_2.state_dict(), # only saving the state_dict() only saves the learned parameters\n",
    "           f=MODEL_SAVE_PATH)"
   ]
  },
  {
   "cell_type": "code",
   "execution_count": 85,
   "id": "160afd9a",
   "metadata": {},
   "outputs": [],
   "source": [
    "# Create a new instance of FashionMNISTModelV2 (the same class as our saved state_dict())\n",
    "# Note: loading model will error if the shapes here aren't the same as the saved version\n",
    "loaded_model_2 = FashionMNISTModelV2(input_shape=1, \n",
    "                                    hidden_units=15, # try changing this to 128 and seeing what happens \n",
    "                                    output_shape=10) \n",
    "\n",
    "# Load in the saved state_dict()\n",
    "loaded_model_2.load_state_dict(torch.load(f=MODEL_SAVE_PATH))\n",
    "\n",
    "# Send model to GPU\n",
    "loaded_model_2 = loaded_model_2.to(device)"
   ]
  },
  {
   "cell_type": "code",
   "execution_count": 86,
   "id": "0ccdcea6",
   "metadata": {},
   "outputs": [
    {
     "data": {
      "text/plain": [
       "{'model_name': 'FashionMNISTModelV2',\n",
       " 'model_loss': 0.2779271602630615,\n",
       " 'model_acc': 89.86621405750799}"
      ]
     },
     "execution_count": 86,
     "metadata": {},
     "output_type": "execute_result"
    }
   ],
   "source": [
    "# Evaluate loaded model\n",
    "torch.manual_seed(42)\n",
    "\n",
    "loaded_model_2_results = eval_model(\n",
    "    model=loaded_model_2,\n",
    "    data_loader=test_dataloader,\n",
    "    loss_fn=loss_fn, \n",
    "    accuracy_fn=accuracy_fn\n",
    ")\n",
    "\n",
    "loaded_model_2_results"
   ]
  },
  {
   "cell_type": "code",
   "execution_count": 87,
   "id": "1bb3596a",
   "metadata": {},
   "outputs": [
    {
     "data": {
      "text/plain": [
       "tensor(True)"
      ]
     },
     "execution_count": 87,
     "metadata": {},
     "output_type": "execute_result"
    }
   ],
   "source": [
    "model_2_results# Check to see if results are close to each other (if they are very far away, there may be an error)\n",
    "torch.isclose(torch.tensor(model_2_results[\"model_loss\"]), \n",
    "              torch.tensor(loaded_model_2_results[\"model_loss\"]),\n",
    "              atol=1e-08, # absolute tolerance\n",
    "              rtol=0.0001) # relative tolerance"
   ]
  }
 ],
 "metadata": {
  "kernelspec": {
   "display_name": "learn_deep_learning",
   "language": "python",
   "name": "python3"
  },
  "language_info": {
   "codemirror_mode": {
    "name": "ipython",
    "version": 3
   },
   "file_extension": ".py",
   "mimetype": "text/x-python",
   "name": "python",
   "nbconvert_exporter": "python",
   "pygments_lexer": "ipython3",
   "version": "3.13.7"
  }
 },
 "nbformat": 4,
 "nbformat_minor": 5
}
