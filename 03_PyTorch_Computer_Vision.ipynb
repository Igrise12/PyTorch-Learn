{
 "cells": [
  {
   "cell_type": "markdown",
   "id": "b4ebdffb",
   "metadata": {},
   "source": [
    "# PyTorch Computer Vision\n",
    "\n",
    "https://www.learnpytorch.io/03_pytorch_computer_vision/"
   ]
  },
  {
   "cell_type": "markdown",
   "id": "383ebaae",
   "metadata": {},
   "source": [
    "## 0. Computer vision libaries in Python\n",
    "\n",
    "* `torchvision.datasets` - get datasets and data loading functions for CV \n",
    "* `torchvision.models` - get pretrained computer vision models that you can leverage for your own problem\n",
    "* `torchvision.transform` - functions for manipulation your vision data (images) to be suitable with ML Model \n",
    "* `torch.utils.data.Dataset` - Base dataset class for PyTorch\n",
    "* `torch.utils.data.DataLoader` - Create a PyThon iterable over a dataset"
   ]
  },
  {
   "cell_type": "code",
   "execution_count": 1,
   "id": "3281cac6",
   "metadata": {},
   "outputs": [
    {
     "name": "stdout",
     "output_type": "stream",
     "text": [
      "2.8.0+cu126\n",
      "0.23.0+cu126\n"
     ]
    }
   ],
   "source": [
    "import torch \n",
    "from torch import nn\n",
    "\n",
    "import torchvision\n",
    "from torchvision import datasets\n",
    "from torchvision import transforms\n",
    "from torchvision.transforms import ToTensor \n",
    "\n",
    "import matplotlib.pyplot as plt \n",
    "\n",
    "\n",
    "print(torch.__version__)\n",
    "print(torchvision.__version__)"
   ]
  },
  {
   "cell_type": "markdown",
   "id": "c04ef430",
   "metadata": {},
   "source": [
    "### 1. Getting a Dataset\n",
    "\n",
    "The dataset wel'll be using is FashionMNIST"
   ]
  },
  {
   "cell_type": "code",
   "execution_count": 2,
   "id": "45ede96a",
   "metadata": {},
   "outputs": [],
   "source": [
    "# Setup training data \n",
    "train_data = datasets.FashionMNIST(\n",
    "    root =\"data\",  # where data to downloaded\n",
    "    train = True, # do we want the training datasets\n",
    "    download = True,  #do we want download yes/no\n",
    "    transform = torchvision.transforms.ToTensor(),  # how to we want to transform the data\n",
    "    target_transform= None # How do we want to transform the labels/target \n",
    ")\n",
    "\n",
    "test_data = datasets.FashionMNIST(\n",
    "    root = \"data\",\n",
    "    train = False,\n",
    "    download = True, \n",
    "    transform= ToTensor(),\n",
    "    target_transform= None \n",
    ")\n"
   ]
  },
  {
   "cell_type": "code",
   "execution_count": 3,
   "id": "ca7dca47",
   "metadata": {},
   "outputs": [
    {
     "data": {
      "text/plain": [
       "(60000, 10000)"
      ]
     },
     "execution_count": 3,
     "metadata": {},
     "output_type": "execute_result"
    }
   ],
   "source": [
    "len(train_data), len(test_data)"
   ]
  },
  {
   "cell_type": "code",
   "execution_count": 4,
   "id": "28bc20c5",
   "metadata": {},
   "outputs": [
    {
     "data": {
      "text/plain": [
       "(tensor([[[0.0000, 0.0000, 0.0000, 0.0000, 0.0000, 0.0000, 0.0000, 0.0000,\n",
       "           0.0000, 0.0000, 0.0000, 0.0000, 0.0000, 0.0000, 0.0000, 0.0000,\n",
       "           0.0000, 0.0000, 0.0000, 0.0000, 0.0000, 0.0000, 0.0000, 0.0000,\n",
       "           0.0000, 0.0000, 0.0000, 0.0000],\n",
       "          [0.0000, 0.0000, 0.0000, 0.0000, 0.0000, 0.0000, 0.0000, 0.0000,\n",
       "           0.0000, 0.0000, 0.0000, 0.0000, 0.0000, 0.0000, 0.0000, 0.0000,\n",
       "           0.0000, 0.0000, 0.0000, 0.0000, 0.0000, 0.0000, 0.0000, 0.0000,\n",
       "           0.0000, 0.0000, 0.0000, 0.0000],\n",
       "          [0.0000, 0.0000, 0.0000, 0.0000, 0.0000, 0.0000, 0.0000, 0.0000,\n",
       "           0.0000, 0.0000, 0.0000, 0.0000, 0.0000, 0.0000, 0.0000, 0.0000,\n",
       "           0.0000, 0.0000, 0.0000, 0.0000, 0.0000, 0.0000, 0.0000, 0.0000,\n",
       "           0.0000, 0.0000, 0.0000, 0.0000],\n",
       "          [0.0000, 0.0000, 0.0000, 0.0000, 0.0000, 0.0000, 0.0000, 0.0000,\n",
       "           0.0000, 0.0000, 0.0000, 0.0000, 0.0039, 0.0000, 0.0000, 0.0510,\n",
       "           0.2863, 0.0000, 0.0000, 0.0039, 0.0157, 0.0000, 0.0000, 0.0000,\n",
       "           0.0000, 0.0039, 0.0039, 0.0000],\n",
       "          [0.0000, 0.0000, 0.0000, 0.0000, 0.0000, 0.0000, 0.0000, 0.0000,\n",
       "           0.0000, 0.0000, 0.0000, 0.0000, 0.0118, 0.0000, 0.1412, 0.5333,\n",
       "           0.4980, 0.2431, 0.2118, 0.0000, 0.0000, 0.0000, 0.0039, 0.0118,\n",
       "           0.0157, 0.0000, 0.0000, 0.0118],\n",
       "          [0.0000, 0.0000, 0.0000, 0.0000, 0.0000, 0.0000, 0.0000, 0.0000,\n",
       "           0.0000, 0.0000, 0.0000, 0.0000, 0.0235, 0.0000, 0.4000, 0.8000,\n",
       "           0.6902, 0.5255, 0.5647, 0.4824, 0.0902, 0.0000, 0.0000, 0.0000,\n",
       "           0.0000, 0.0471, 0.0392, 0.0000],\n",
       "          [0.0000, 0.0000, 0.0000, 0.0000, 0.0000, 0.0000, 0.0000, 0.0000,\n",
       "           0.0000, 0.0000, 0.0000, 0.0000, 0.0000, 0.0000, 0.6078, 0.9255,\n",
       "           0.8118, 0.6980, 0.4196, 0.6118, 0.6314, 0.4275, 0.2510, 0.0902,\n",
       "           0.3020, 0.5098, 0.2824, 0.0588],\n",
       "          [0.0000, 0.0000, 0.0000, 0.0000, 0.0000, 0.0000, 0.0000, 0.0000,\n",
       "           0.0000, 0.0000, 0.0000, 0.0039, 0.0000, 0.2706, 0.8118, 0.8745,\n",
       "           0.8549, 0.8471, 0.8471, 0.6392, 0.4980, 0.4745, 0.4784, 0.5725,\n",
       "           0.5529, 0.3451, 0.6745, 0.2588],\n",
       "          [0.0000, 0.0000, 0.0000, 0.0000, 0.0000, 0.0000, 0.0000, 0.0000,\n",
       "           0.0000, 0.0039, 0.0039, 0.0039, 0.0000, 0.7843, 0.9098, 0.9098,\n",
       "           0.9137, 0.8980, 0.8745, 0.8745, 0.8431, 0.8353, 0.6431, 0.4980,\n",
       "           0.4824, 0.7686, 0.8980, 0.0000],\n",
       "          [0.0000, 0.0000, 0.0000, 0.0000, 0.0000, 0.0000, 0.0000, 0.0000,\n",
       "           0.0000, 0.0000, 0.0000, 0.0000, 0.0000, 0.7176, 0.8824, 0.8471,\n",
       "           0.8745, 0.8941, 0.9216, 0.8902, 0.8784, 0.8706, 0.8784, 0.8667,\n",
       "           0.8745, 0.9608, 0.6784, 0.0000],\n",
       "          [0.0000, 0.0000, 0.0000, 0.0000, 0.0000, 0.0000, 0.0000, 0.0000,\n",
       "           0.0000, 0.0000, 0.0000, 0.0000, 0.0000, 0.7569, 0.8941, 0.8549,\n",
       "           0.8353, 0.7765, 0.7059, 0.8314, 0.8235, 0.8275, 0.8353, 0.8745,\n",
       "           0.8627, 0.9529, 0.7922, 0.0000],\n",
       "          [0.0000, 0.0000, 0.0000, 0.0000, 0.0000, 0.0000, 0.0000, 0.0000,\n",
       "           0.0000, 0.0039, 0.0118, 0.0000, 0.0471, 0.8588, 0.8627, 0.8314,\n",
       "           0.8549, 0.7529, 0.6627, 0.8902, 0.8157, 0.8549, 0.8784, 0.8314,\n",
       "           0.8863, 0.7725, 0.8196, 0.2039],\n",
       "          [0.0000, 0.0000, 0.0000, 0.0000, 0.0000, 0.0000, 0.0000, 0.0000,\n",
       "           0.0000, 0.0000, 0.0235, 0.0000, 0.3882, 0.9569, 0.8706, 0.8627,\n",
       "           0.8549, 0.7961, 0.7765, 0.8667, 0.8431, 0.8353, 0.8706, 0.8627,\n",
       "           0.9608, 0.4667, 0.6549, 0.2196],\n",
       "          [0.0000, 0.0000, 0.0000, 0.0000, 0.0000, 0.0000, 0.0000, 0.0000,\n",
       "           0.0000, 0.0157, 0.0000, 0.0000, 0.2157, 0.9255, 0.8941, 0.9020,\n",
       "           0.8941, 0.9412, 0.9098, 0.8353, 0.8549, 0.8745, 0.9176, 0.8510,\n",
       "           0.8510, 0.8196, 0.3608, 0.0000],\n",
       "          [0.0000, 0.0000, 0.0039, 0.0157, 0.0235, 0.0275, 0.0078, 0.0000,\n",
       "           0.0000, 0.0000, 0.0000, 0.0000, 0.9294, 0.8863, 0.8510, 0.8745,\n",
       "           0.8706, 0.8588, 0.8706, 0.8667, 0.8471, 0.8745, 0.8980, 0.8431,\n",
       "           0.8549, 1.0000, 0.3020, 0.0000],\n",
       "          [0.0000, 0.0118, 0.0000, 0.0000, 0.0000, 0.0000, 0.0000, 0.0000,\n",
       "           0.0000, 0.2431, 0.5686, 0.8000, 0.8941, 0.8118, 0.8353, 0.8667,\n",
       "           0.8549, 0.8157, 0.8275, 0.8549, 0.8784, 0.8745, 0.8588, 0.8431,\n",
       "           0.8784, 0.9569, 0.6235, 0.0000],\n",
       "          [0.0000, 0.0000, 0.0000, 0.0000, 0.0706, 0.1725, 0.3216, 0.4196,\n",
       "           0.7412, 0.8941, 0.8627, 0.8706, 0.8510, 0.8863, 0.7843, 0.8039,\n",
       "           0.8275, 0.9020, 0.8784, 0.9176, 0.6902, 0.7373, 0.9804, 0.9725,\n",
       "           0.9137, 0.9333, 0.8431, 0.0000],\n",
       "          [0.0000, 0.2235, 0.7333, 0.8157, 0.8784, 0.8667, 0.8784, 0.8157,\n",
       "           0.8000, 0.8392, 0.8157, 0.8196, 0.7843, 0.6235, 0.9608, 0.7569,\n",
       "           0.8078, 0.8745, 1.0000, 1.0000, 0.8667, 0.9176, 0.8667, 0.8275,\n",
       "           0.8627, 0.9098, 0.9647, 0.0000],\n",
       "          [0.0118, 0.7922, 0.8941, 0.8784, 0.8667, 0.8275, 0.8275, 0.8392,\n",
       "           0.8039, 0.8039, 0.8039, 0.8627, 0.9412, 0.3137, 0.5882, 1.0000,\n",
       "           0.8980, 0.8667, 0.7373, 0.6039, 0.7490, 0.8235, 0.8000, 0.8196,\n",
       "           0.8706, 0.8941, 0.8824, 0.0000],\n",
       "          [0.3843, 0.9137, 0.7765, 0.8235, 0.8706, 0.8980, 0.8980, 0.9176,\n",
       "           0.9765, 0.8627, 0.7608, 0.8431, 0.8510, 0.9451, 0.2549, 0.2863,\n",
       "           0.4157, 0.4588, 0.6588, 0.8588, 0.8667, 0.8431, 0.8510, 0.8745,\n",
       "           0.8745, 0.8784, 0.8980, 0.1137],\n",
       "          [0.2941, 0.8000, 0.8314, 0.8000, 0.7569, 0.8039, 0.8275, 0.8824,\n",
       "           0.8471, 0.7255, 0.7725, 0.8078, 0.7765, 0.8353, 0.9412, 0.7647,\n",
       "           0.8902, 0.9608, 0.9373, 0.8745, 0.8549, 0.8314, 0.8196, 0.8706,\n",
       "           0.8627, 0.8667, 0.9020, 0.2627],\n",
       "          [0.1882, 0.7961, 0.7176, 0.7608, 0.8353, 0.7725, 0.7255, 0.7451,\n",
       "           0.7608, 0.7529, 0.7922, 0.8392, 0.8588, 0.8667, 0.8627, 0.9255,\n",
       "           0.8824, 0.8471, 0.7804, 0.8078, 0.7294, 0.7098, 0.6941, 0.6745,\n",
       "           0.7098, 0.8039, 0.8078, 0.4510],\n",
       "          [0.0000, 0.4784, 0.8588, 0.7569, 0.7020, 0.6706, 0.7176, 0.7686,\n",
       "           0.8000, 0.8235, 0.8353, 0.8118, 0.8275, 0.8235, 0.7843, 0.7686,\n",
       "           0.7608, 0.7490, 0.7647, 0.7490, 0.7765, 0.7529, 0.6902, 0.6118,\n",
       "           0.6549, 0.6941, 0.8235, 0.3608],\n",
       "          [0.0000, 0.0000, 0.2902, 0.7412, 0.8314, 0.7490, 0.6863, 0.6745,\n",
       "           0.6863, 0.7098, 0.7255, 0.7373, 0.7412, 0.7373, 0.7569, 0.7765,\n",
       "           0.8000, 0.8196, 0.8235, 0.8235, 0.8275, 0.7373, 0.7373, 0.7608,\n",
       "           0.7529, 0.8471, 0.6667, 0.0000],\n",
       "          [0.0078, 0.0000, 0.0000, 0.0000, 0.2588, 0.7843, 0.8706, 0.9294,\n",
       "           0.9373, 0.9490, 0.9647, 0.9529, 0.9569, 0.8667, 0.8627, 0.7569,\n",
       "           0.7490, 0.7020, 0.7137, 0.7137, 0.7098, 0.6902, 0.6510, 0.6588,\n",
       "           0.3882, 0.2275, 0.0000, 0.0000],\n",
       "          [0.0000, 0.0000, 0.0000, 0.0000, 0.0000, 0.0000, 0.0000, 0.1569,\n",
       "           0.2392, 0.1725, 0.2824, 0.1608, 0.1373, 0.0000, 0.0000, 0.0000,\n",
       "           0.0000, 0.0000, 0.0000, 0.0000, 0.0000, 0.0000, 0.0000, 0.0000,\n",
       "           0.0000, 0.0000, 0.0000, 0.0000],\n",
       "          [0.0000, 0.0000, 0.0000, 0.0000, 0.0000, 0.0000, 0.0000, 0.0000,\n",
       "           0.0000, 0.0000, 0.0000, 0.0000, 0.0000, 0.0000, 0.0000, 0.0000,\n",
       "           0.0000, 0.0000, 0.0000, 0.0000, 0.0000, 0.0000, 0.0000, 0.0000,\n",
       "           0.0000, 0.0000, 0.0000, 0.0000],\n",
       "          [0.0000, 0.0000, 0.0000, 0.0000, 0.0000, 0.0000, 0.0000, 0.0000,\n",
       "           0.0000, 0.0000, 0.0000, 0.0000, 0.0000, 0.0000, 0.0000, 0.0000,\n",
       "           0.0000, 0.0000, 0.0000, 0.0000, 0.0000, 0.0000, 0.0000, 0.0000,\n",
       "           0.0000, 0.0000, 0.0000, 0.0000]]]),\n",
       " 9)"
      ]
     },
     "execution_count": 4,
     "metadata": {},
     "output_type": "execute_result"
    }
   ],
   "source": [
    "image,label = train_data[0]\n",
    "image,label"
   ]
  },
  {
   "cell_type": "code",
   "execution_count": 5,
   "id": "442485c0",
   "metadata": {},
   "outputs": [],
   "source": [
    "class_names = train_data.classes    "
   ]
  },
  {
   "cell_type": "code",
   "execution_count": 6,
   "id": "6330505c",
   "metadata": {},
   "outputs": [
    {
     "data": {
      "text/plain": [
       "{'T-shirt/top': 0,\n",
       " 'Trouser': 1,\n",
       " 'Pullover': 2,\n",
       " 'Dress': 3,\n",
       " 'Coat': 4,\n",
       " 'Sandal': 5,\n",
       " 'Shirt': 6,\n",
       " 'Sneaker': 7,\n",
       " 'Bag': 8,\n",
       " 'Ankle boot': 9}"
      ]
     },
     "execution_count": 6,
     "metadata": {},
     "output_type": "execute_result"
    }
   ],
   "source": [
    "class_to_idx = train_data.class_to_idx\n",
    "class_to_idx"
   ]
  },
  {
   "cell_type": "code",
   "execution_count": 7,
   "id": "6e7e44bb",
   "metadata": {},
   "outputs": [
    {
     "data": {
      "text/plain": [
       "tensor([9, 0, 0,  ..., 3, 0, 5])"
      ]
     },
     "execution_count": 7,
     "metadata": {},
     "output_type": "execute_result"
    }
   ],
   "source": [
    "train_data.targets"
   ]
  },
  {
   "cell_type": "code",
   "execution_count": null,
   "id": "349f79ed",
   "metadata": {},
   "outputs": [],
   "source": []
  },
  {
   "cell_type": "code",
   "execution_count": 8,
   "id": "a4d3c395",
   "metadata": {},
   "outputs": [
    {
     "name": "stdout",
     "output_type": "stream",
     "text": [
      "Image Shape: torch.Size([1, 28, 28]) -> [Color Channels, Height, Width]\n",
      "Image Label: Ankle boot\n"
     ]
    }
   ],
   "source": [
    "# Check the shape of our model\n",
    "print(f\"Image Shape: {image.shape} -> [Color Channels, Height, Width]\")\n",
    "print(f\"Image Label: {class_names[label]}\")"
   ]
  },
  {
   "cell_type": "markdown",
   "id": "d4a511b8",
   "metadata": {},
   "source": [
    "### 1.2 Visualizing our data"
   ]
  },
  {
   "cell_type": "code",
   "execution_count": 9,
   "id": "bdcb2071",
   "metadata": {},
   "outputs": [
    {
     "name": "stdout",
     "output_type": "stream",
     "text": [
      "Image Shape torch.Size([1, 28, 28])\n"
     ]
    },
    {
     "data": {
      "text/plain": [
       "Text(0.5, 1.0, 'Ankle boot')"
      ]
     },
     "execution_count": 9,
     "metadata": {},
     "output_type": "execute_result"
    },
    {
     "data": {
      "image/png": "[encoded data removed]",
      "text/plain": [
       "<Figure size 640x480 with 1 Axes>"
      ]
     },
     "metadata": {},
     "output_type": "display_data"
    }
   ],
   "source": [
    "import matplotlib.pyplot as plt \n",
    "image, label = train_data[0]\n",
    "print(f\"Image Shape {image.shape}\")\n",
    "plt.imshow(image.squeeze())\n",
    "plt.title(class_names[label])"
   ]
  },
  {
   "cell_type": "code",
   "execution_count": 10,
   "id": "3e5b22f9",
   "metadata": {},
   "outputs": [
    {
     "data": {
      "text/plain": [
       "<matplotlib.image.AxesImage at 0x1896714b390>"
      ]
     },
     "execution_count": 10,
     "metadata": {},
     "output_type": "execute_result"
    },
    {
     "data": {
      "image/png": "[encoded data removed]",
      "text/plain": [
       "<Figure size 640x480 with 1 Axes>"
      ]
     },
     "metadata": {},
     "output_type": "display_data"
    }
   ],
   "source": [
    "plt.imshow(image.squeeze(), cmap = \"gray\")\n"
   ]
  },
  {
   "cell_type": "code",
   "execution_count": 11,
   "id": "252877f0",
   "metadata": {},
   "outputs": [
    {
     "data": {
      "image/png": "[encoded data removed]",
      "text/plain": [
       "<Figure size 900x900 with 16 Axes>"
      ]
     },
     "metadata": {},
     "output_type": "display_data"
    }
   ],
   "source": [
    "# plot more images \n",
    "# torch.manual_seed(42)\n",
    "fig = plt.figure(figsize = (9,9))\n",
    "rows, cols = 4,4\n",
    "for i in range(1, rows*cols+1):\n",
    "    random_idx = torch.randint(0, len(train_data), size = [1]).item()\n",
    "    # print(random_idx)\n",
    "    img, label = train_data[random_idx] \n",
    "    fig.add_subplot(rows, cols, i)\n",
    "    plt.imshow(img.squeeze(),cmap= \"gray\")\n",
    "    plt.title(class_names[label])\n",
    "    plt.axis(False)"
   ]
  },
  {
   "cell_type": "markdown",
   "id": "9bb6ab68",
   "metadata": {},
   "source": [
    "Do You think thesse items of clothing (images) could be modelled with pure linear lines? Or do you think we'll need non-linearities"
   ]
  },
  {
   "cell_type": "code",
   "execution_count": 12,
   "id": "9ac9ae57",
   "metadata": {},
   "outputs": [
    {
     "data": {
      "text/plain": [
       "(Dataset FashionMNIST\n",
       "     Number of datapoints: 60000\n",
       "     Root location: data\n",
       "     Split: Train\n",
       "     StandardTransform\n",
       " Transform: ToTensor(),\n",
       " Dataset FashionMNIST\n",
       "     Number of datapoints: 10000\n",
       "     Root location: data\n",
       "     Split: Test\n",
       "     StandardTransform\n",
       " Transform: ToTensor())"
      ]
     },
     "execution_count": 12,
     "metadata": {},
     "output_type": "execute_result"
    }
   ],
   "source": [
    "train_data, test_data"
   ]
  },
  {
   "cell_type": "markdown",
   "id": "d86d41dc",
   "metadata": {},
   "source": [
    "## 2. Prepare Data Loader\n",
    "\n",
    "Right now, our data is in thee form of PyTorch Datasets\n",
    "\n",
    "DataLoader turn our dataset into a Python iterable\n",
    "\n",
    "More specifiacally, we want to turn our data into batches (or mini-batches).\n",
    "\n",
    "why would we do this? \n",
    "1. It is more computationally efficient, as in your computing hardware my not be able to look (store in memory) at 60000 images in one hit. \n",
    "2. It gives our neural network more chance to update its gradients per epochs \n",
    "\n",
    "\n"
   ]
  },
  {
   "cell_type": "code",
   "execution_count": 13,
   "id": "e0f1ee84",
   "metadata": {},
   "outputs": [
    {
     "data": {
      "text/plain": [
       "(<torch.utils.data.dataloader.DataLoader at 0x189670870e0>,\n",
       " <torch.utils.data.dataloader.DataLoader at 0x189653cf390>)"
      ]
     },
     "execution_count": 13,
     "metadata": {},
     "output_type": "execute_result"
    }
   ],
   "source": [
    "from torch.utils.data import DataLoader \n",
    "\n",
    "# setup the batch size hyperparameter \n",
    "BATCH_SIZE = 32\n",
    "\n",
    "# Turn Datasets into iterables  (batches)\n",
    "train_dataloader = DataLoader(dataset = train_data, batch_size= BATCH_SIZE, shuffle= True)\n",
    "\n",
    "test_dataloader =DataLoader(dataset= test_data, batch_size= BATCH_SIZE, shuffle= False )\n",
    "\n",
    "train_dataloader, test_dataloader"
   ]
  },
  {
   "cell_type": "code",
   "execution_count": 14,
   "id": "31f9832b",
   "metadata": {},
   "outputs": [
    {
     "name": "stdout",
     "output_type": "stream",
     "text": [
      "DataLoaders: (<torch.utils.data.dataloader.DataLoader object at 0x00000189670870E0>, <torch.utils.data.dataloader.DataLoader object at 0x00000189653CF390>)\n",
      "Length of Train_DataLoader: 1875 batches of 32...\n",
      "Length of Test_DataLoader: 313 batches of 32...\n"
     ]
    }
   ],
   "source": [
    "# Lets check out what we've created \n",
    "print(f\"DataLoaders: {train_dataloader, test_dataloader}\")\n",
    "print(f\"Length of Train_DataLoader: {len(train_dataloader)} batches of {BATCH_SIZE}...\")\n",
    "print(f\"Length of Test_DataLoader: {len(test_dataloader)} batches of {BATCH_SIZE}...\")\n"
   ]
  },
  {
   "cell_type": "code",
   "execution_count": 15,
   "id": "efef993c",
   "metadata": {},
   "outputs": [
    {
     "data": {
      "text/plain": [
       "torch.Size([32, 1, 28, 28])"
      ]
     },
     "execution_count": 15,
     "metadata": {},
     "output_type": "execute_result"
    }
   ],
   "source": [
    "train_features_batch, train_labels_batch = next(iter(train_dataloader))\n",
    "train_features_batch.shape"
   ]
  },
  {
   "cell_type": "code",
   "execution_count": 16,
   "id": "698bd3e3",
   "metadata": {},
   "outputs": [
    {
     "name": "stdout",
     "output_type": "stream",
     "text": [
      "Image size: torch.Size([1, 28, 28])\n",
      "Label 1, label size: torch.Size([])\n"
     ]
    },
    {
     "data": {
      "image/png": "[encoded data removed]",
      "text/plain": [
       "<Figure size 640x480 with 1 Axes>"
      ]
     },
     "metadata": {},
     "output_type": "display_data"
    }
   ],
   "source": [
    "# Show a sample\n",
    "random_idx = torch.randint(0, len(train_features_batch),size = [1]).item()\n",
    "img, label = train_features_batch[random_idx], train_labels_batch[random_idx]\n",
    "plt.imshow(img.squeeze(), cmap =\"gray\")\n",
    "plt.title(class_names[label])\n",
    "plt.axis(False)\n",
    "print(f\"Image size: {image.shape}\")\n",
    "print(f\"Label {label}, label size: {label.shape}\")"
   ]
  },
  {
   "cell_type": "markdown",
   "id": "50198e7c",
   "metadata": {},
   "source": [
    "## 3. Model 0: Build a baseline model \n",
    "\n",
    "When starting to build a series of machine learning experiements, its best practice to start with a baseline model \n",
    "\n",
    "A baseline model is a simpel model you will try and improve upon with subsequent models/experiments\n",
    "\n",
    "In other words: start simply and add complexity when necessary  "
   ]
  },
  {
   "cell_type": "code",
   "execution_count": 17,
   "id": "0d68cf3a",
   "metadata": {},
   "outputs": [
    {
     "name": "stdout",
     "output_type": "stream",
     "text": [
      "Shape before flattening: torch.Size([1, 28, 28]) -> [Color_channels, height, width]\n",
      "Shape after flattening: torch.Size([1, 784])[color_channels, height*width]\n"
     ]
    }
   ],
   "source": [
    "# Create a flatten layer \n",
    "\n",
    "flatten_model = nn.Flatten()\n",
    "\n",
    "# Get a single sample \n",
    "x = train_features_batch[0]\n",
    "\n",
    "\n",
    "output = flatten_model(x)\n",
    "print(f\"Shape before flattening: {x.shape} -> [Color_channels, height, width]\")\n",
    "print(f\"Shape after flattening: {output.shape}[color_channels, height*width]\")"
   ]
  },
  {
   "cell_type": "code",
   "execution_count": 18,
   "id": "d99fbef7",
   "metadata": {},
   "outputs": [],
   "source": [
    "from torch import nn \n",
    "class FashionMNISTModelV0(nn.Module):\n",
    "    def __init__(self, input_shape : int, hidden_units :int, output_shape: int):\n",
    "        super().__init__()\n",
    "        self.layer_stack = nn.Sequential(\n",
    "            nn.Flatten(),\n",
    "            nn.Linear(input_shape, hidden_units),\n",
    "            nn.Linear(hidden_units, output_shape)\n",
    "        )    \n",
    "        \n",
    "    def forward(self,x):\n",
    "        return self.layer_stack(x)"
   ]
  },
  {
   "cell_type": "code",
   "execution_count": 19,
   "id": "c6164b6c",
   "metadata": {},
   "outputs": [
    {
     "data": {
      "text/plain": [
       "FashionMNISTModelV0(\n",
       "  (layer_stack): Sequential(\n",
       "    (0): Flatten(start_dim=1, end_dim=-1)\n",
       "    (1): Linear(in_features=784, out_features=10, bias=True)\n",
       "    (2): Linear(in_features=10, out_features=10, bias=True)\n",
       "  )\n",
       ")"
      ]
     },
     "execution_count": 19,
     "metadata": {},
     "output_type": "execute_result"
    }
   ],
   "source": [
    "torch.manual_seed(42)\n",
    "\n",
    "# Setup model with input parameter\n",
    "model_0 = FashionMNISTModelV0(\n",
    "    input_shape=784, # this 28*28\n",
    "    hidden_units= 10, # how many units in the hidden layer\n",
    "    output_shape= len(class_names)\n",
    ").to(\"cpu\")\n",
    "\n",
    "model_0"
   ]
  },
  {
   "cell_type": "code",
   "execution_count": 20,
   "id": "ee09a657",
   "metadata": {},
   "outputs": [
    {
     "data": {
      "text/plain": [
       "tensor([[-0.0315,  0.3171,  0.0531, -0.2525,  0.5959,  0.2112,  0.3233,  0.2694,\n",
       "         -0.1004,  0.0157]], grad_fn=<AddmmBackward0>)"
      ]
     },
     "execution_count": 20,
     "metadata": {},
     "output_type": "execute_result"
    }
   ],
   "source": [
    "dummy_x = torch.rand([1,1,28,28])\n",
    "model_0(dummy_x)"
   ]
  },
  {
   "cell_type": "markdown",
   "id": "4c7c735c",
   "metadata": {},
   "source": [
    "### 3.1 Setup loss, optimizier and evaluation metrics\n",
    "\n",
    "* Loss function - since we're working with multi-class data, our loss function will be `nn.CrossEntropyLoss()`\n",
    "* Optimizer - our optimizer `torch.optim.SGD()` (stochastic gradient descent)\n",
    "* Evaluation metric - since we're working on a classification problem, let's use acc as our eval metric"
   ]
  },
  {
   "cell_type": "code",
   "execution_count": 21,
   "id": "0a0d5118",
   "metadata": {},
   "outputs": [],
   "source": [
    "from helper_function import accuracy_fn \n",
    "\n",
    "loss_fn = nn.CrossEntropyLoss()\n",
    "optimizer = torch.optim.SGD(model_0.parameters(), lr=0.1)"
   ]
  },
  {
   "cell_type": "markdown",
   "id": "f24224d1",
   "metadata": {},
   "source": [
    "### 3.2 Create a function to time our experiments\n",
    "\n",
    "Machine learning is very experimental. \n",
    "\n",
    "Two of the main thing you'll often want to track are:\n",
    "1. Model's Performance (loss, acc values, etc)\n",
    "2. How fast it runs"
   ]
  },
  {
   "cell_type": "code",
   "execution_count": 22,
   "id": "3590ebd2",
   "metadata": {},
   "outputs": [],
   "source": [
    "### 3.2 Create a function to time our experiments\n",
    "from timeit import default_timer as timer \n",
    "\n",
    "def print_train_time(start: float, end:float, device: torch.device=None):\n",
    "    \"\"\"Prints difference between start and end time.\"\"\"\n",
    "    total_time = end -start \n",
    "    print(f\"train time on {device} : {total_time:.3f}\")\n",
    "    return total_time"
   ]
  },
  {
   "cell_type": "code",
   "execution_count": 23,
   "id": "bd130904",
   "metadata": {},
   "outputs": [
    {
     "name": "stdout",
     "output_type": "stream",
     "text": [
      "train time on None : 0.000\n"
     ]
    },
    {
     "data": {
      "text/plain": [
       "2.8500000553322025e-05"
      ]
     },
     "execution_count": 23,
     "metadata": {},
     "output_type": "execute_result"
    }
   ],
   "source": [
    "star_time = timer()\n",
    "\n",
    "\n",
    "\n",
    "end_time = timer() \n",
    "\n",
    "print_train_time(start = star_time, end= end_time)"
   ]
  },
  {
   "cell_type": "markdown",
   "id": "00fe242a",
   "metadata": {},
   "source": [
    "### 3.3 Create a training loop and training a model on batches of data\n",
    "\n",
    "1. Loop through epochs\n",
    "2. Loop through training batches, perform training steps, calculate the train loss **per batches**\n",
    "3. Loop through testing batches, perform testing steps, calculate the test loss *per batch*.\n",
    "4. Print out what's happening\n",
    "5. Time it all (for fun)"
   ]
  },
  {
   "cell_type": "code",
   "execution_count": 41,
   "id": "e70ada76",
   "metadata": {},
   "outputs": [
    {
     "data": {
      "application/vnd.jupyter.widget-view+json": {
       "model_id": "2ea358c2ad3342a5b01a96eb11cc141b",
       "version_major": 2,
       "version_minor": 0
      },
      "text/plain": [
       "  0%|          | 0/15 [00:00<?, ?it/s]"
      ]
     },
     "metadata": {},
     "output_type": "display_data"
    },
    {
     "name": "stdout",
     "output_type": "stream",
     "text": [
      "Epoch: 0\n",
      "Looked at 0.0\n",
      "Looked at 0.21333333333333335\n",
      "Looked at 0.4266666666666667\n",
      "Looked at 0.64\n",
      "Looked at 0.8533333333333334\n",
      "\n",
      " Train Loss: 0.4362 | Test Loss: 0.4617 | Test Acc: 83.8059\n",
      "Epoch: 1\n",
      "Looked at 0.0\n",
      "Looked at 0.21333333333333335\n",
      "Looked at 0.4266666666666667\n",
      "Looked at 0.64\n",
      "Looked at 0.8533333333333334\n",
      "\n",
      " Train Loss: 0.4312 | Test Loss: 0.4626 | Test Acc: 83.9956\n",
      "Epoch: 2\n",
      "Looked at 0.0\n",
      "Looked at 0.21333333333333335\n",
      "Looked at 0.4266666666666667\n",
      "Looked at 0.64\n",
      "Looked at 0.8533333333333334\n",
      "\n",
      " Train Loss: 0.4261 | Test Loss: 0.4644 | Test Acc: 83.9257\n",
      "Epoch: 3\n",
      "Looked at 0.0\n",
      "Looked at 0.21333333333333335\n",
      "Looked at 0.4266666666666667\n",
      "Looked at 0.64\n",
      "Looked at 0.8533333333333334\n",
      "\n",
      " Train Loss: 0.4218 | Test Loss: 0.4565 | Test Acc: 83.8159\n",
      "Epoch: 4\n",
      "Looked at 0.0\n",
      "Looked at 0.21333333333333335\n",
      "Looked at 0.4266666666666667\n",
      "Looked at 0.64\n",
      "Looked at 0.8533333333333334\n",
      "\n",
      " Train Loss: 0.4194 | Test Loss: 0.4608 | Test Acc: 83.4465\n",
      "Epoch: 5\n",
      "Looked at 0.0\n",
      "Looked at 0.21333333333333335\n",
      "Looked at 0.4266666666666667\n",
      "Looked at 0.64\n",
      "Looked at 0.8533333333333334\n",
      "\n",
      " Train Loss: 0.4159 | Test Loss: 0.4568 | Test Acc: 83.9457\n",
      "Epoch: 6\n",
      "Looked at 0.0\n",
      "Looked at 0.21333333333333335\n",
      "Looked at 0.4266666666666667\n",
      "Looked at 0.64\n",
      "Looked at 0.8533333333333334\n",
      "\n",
      " Train Loss: 0.4136 | Test Loss: 0.4834 | Test Acc: 83.4864\n",
      "Epoch: 7\n",
      "Looked at 0.0\n",
      "Looked at 0.21333333333333335\n",
      "Looked at 0.4266666666666667\n",
      "Looked at 0.64\n",
      "Looked at 0.8533333333333334\n",
      "\n",
      " Train Loss: 0.4133 | Test Loss: 0.4698 | Test Acc: 83.6961\n",
      "Epoch: 8\n",
      "Looked at 0.0\n",
      "Looked at 0.21333333333333335\n",
      "Looked at 0.4266666666666667\n",
      "Looked at 0.64\n",
      "Looked at 0.8533333333333334\n",
      "\n",
      " Train Loss: 0.4120 | Test Loss: 0.4781 | Test Acc: 83.3466\n",
      "Epoch: 9\n",
      "Looked at 0.0\n",
      "Looked at 0.21333333333333335\n",
      "Looked at 0.4266666666666667\n",
      "Looked at 0.64\n",
      "Looked at 0.8533333333333334\n",
      "\n",
      " Train Loss: 0.4102 | Test Loss: 0.4629 | Test Acc: 83.5663\n",
      "Epoch: 10\n",
      "Looked at 0.0\n",
      "Looked at 0.21333333333333335\n",
      "Looked at 0.4266666666666667\n",
      "Looked at 0.64\n",
      "Looked at 0.8533333333333334\n",
      "\n",
      " Train Loss: 0.4095 | Test Loss: 0.4605 | Test Acc: 83.4465\n",
      "Epoch: 11\n",
      "Looked at 0.0\n",
      "Looked at 0.21333333333333335\n",
      "Looked at 0.4266666666666667\n",
      "Looked at 0.64\n",
      "Looked at 0.8533333333333334\n",
      "\n",
      " Train Loss: 0.4066 | Test Loss: 0.4628 | Test Acc: 83.6761\n",
      "Epoch: 12\n",
      "Looked at 0.0\n",
      "Looked at 0.21333333333333335\n",
      "Looked at 0.4266666666666667\n",
      "Looked at 0.64\n",
      "Looked at 0.8533333333333334\n",
      "\n",
      " Train Loss: 0.4051 | Test Loss: 0.4641 | Test Acc: 83.8458\n",
      "Epoch: 13\n",
      "Looked at 0.0\n",
      "Looked at 0.21333333333333335\n",
      "Looked at 0.4266666666666667\n",
      "Looked at 0.64\n",
      "Looked at 0.8533333333333334\n",
      "\n",
      " Train Loss: 0.4048 | Test Loss: 0.4644 | Test Acc: 84.0855\n",
      "Epoch: 14\n",
      "Looked at 0.0\n",
      "Looked at 0.21333333333333335\n",
      "Looked at 0.4266666666666667\n",
      "Looked at 0.64\n",
      "Looked at 0.8533333333333334\n",
      "\n",
      " Train Loss: 0.4032 | Test Loss: 0.4771 | Test Acc: 82.9373\n",
      "train time on cpu : 112.228\n"
     ]
    }
   ],
   "source": [
    "# import tqdm\n",
    "from tqdm.auto import tqdm \n",
    "\n",
    "torch.manual_seed(42)\n",
    "train_time_start_on_cpu = timer()\n",
    "\n",
    "# Set the number of epochs (we'll keep this small for faster training time)\n",
    "epochs = 15\n",
    "\n",
    "# Create training and test loop \n",
    "for epoch in tqdm(range(epochs)):\n",
    "    print(f\"Epoch: {epoch}\")\n",
    "    # training\n",
    "    train_loss = 0\n",
    "    # add a loop to toop through the training batches \n",
    "    for batch, (X,y) in enumerate(train_dataloader):\n",
    "        model_0.train()\n",
    "        # 1.Forward Pass\n",
    "        y_pred = model_0 (X)\n",
    "        \n",
    "        # 2. Calculate loss (per batch)\n",
    "        loss = loss_fn(y_pred,y)\n",
    "        train_loss += loss # accumulate train loss \n",
    "        \n",
    "        # 3. Optimizer zero grad\n",
    "        optimizer.zero_grad()\n",
    "        \n",
    "        # 4. Loss Backward\n",
    "        loss.backward()\n",
    "        \n",
    "        # 5. Optimizer Step \n",
    "        optimizer.step()\n",
    "        \n",
    "        # print out whats happening \n",
    "        if batch %400 == 0:\n",
    "            print(f\"Looked at {batch *len(X)/len(train_dataloader.dataset)}\")\n",
    "            \n",
    "            \n",
    "    # Divide total train loss by lenght of train dataloader \n",
    "    train_loss /= len(train_dataloader)\n",
    "    \n",
    "    #  testing \n",
    "    test_loss, test_acc = 0,0\n",
    "    model_0.eval()\n",
    "    with torch.inference_mode():\n",
    "        for X,y in test_dataloader:\n",
    "            # 1. Forward pess\n",
    "            test_pred = model_0(X)\n",
    "            \n",
    "            # 2. Calculate loss\n",
    "            test_loss += loss_fn(test_pred, y)\n",
    "\n",
    "            # 3. Calculate accuracy\n",
    "            test_acc += accuracy_fn(y_true = y, y_pred = test_pred.argmax(dim = 1))\n",
    "    \n",
    "    # caculate the test loss average per batch \n",
    "        test_loss /= len(test_dataloader)\n",
    "        \n",
    "        #  Calculate the test acc average per batch\\\n",
    "        test_acc /= len(test_dataloader)\n",
    "        \n",
    "        \n",
    "    # print whats happening \n",
    "    print(f\"\\n Train Loss: {train_loss:.4f} | Test Loss: {test_loss:.4f} | Test Acc: {test_acc:.4f}\")\n",
    "    \n",
    "# Calculate training time\n",
    "train_time_end_on_cpu = timer()\n",
    "total_train_time_model_0 = print_train_time(train_time_start_on_cpu, train_time_end_on_cpu,device=str(next(model_0.parameters()).device))"
   ]
  },
  {
   "cell_type": "code",
   "execution_count": 31,
   "id": "7ec7863b",
   "metadata": {},
   "outputs": [
    {
     "data": {
      "text/plain": [
       "60000"
      ]
     },
     "execution_count": 31,
     "metadata": {},
     "output_type": "execute_result"
    }
   ],
   "source": [
    "len(train_dataloader.dataset)"
   ]
  },
  {
   "cell_type": "markdown",
   "id": "f4fa1783",
   "metadata": {},
   "source": [
    "## 4. Make prediction and get Model 0 Results"
   ]
  },
  {
   "cell_type": "code",
   "execution_count": 39,
   "id": "2d706d68",
   "metadata": {},
   "outputs": [
    {
     "data": {
      "text/plain": [
       "{'model_name': 'FashionMNISTModelV0',\n",
       " 'model_loss': 0.47143012285232544,\n",
       " 'model_acc': 83.57627795527156}"
      ]
     },
     "execution_count": 39,
     "metadata": {},
     "output_type": "execute_result"
    }
   ],
   "source": [
    "torch.manual_seed(42)\n",
    "\n",
    "def eval_model(model: torch.nn.Module,\n",
    "               data_loader: torch.utils.data.DataLoader,\n",
    "               loss_fn: torch.nn.Module,\n",
    "               accuracy_fn):\n",
    "    loss, acc = 0,0\n",
    "    model.eval()\n",
    "    with torch.inference_mode():\n",
    "        for X,y in data_loader:\n",
    "            y_pred = model(X)\n",
    "            loss+= loss_fn(y_pred,y)\n",
    "            acc+= accuracy_fn(y_true=y, y_pred = y_pred.argmax(dim = 1))\n",
    "            \n",
    "    # Scale loss and acc to find the average loss/acc per batch\n",
    "        loss/= len(data_loader)\n",
    "        acc/= len(data_loader)\n",
    "    \n",
    "    return{\"model_name\" : model.__class__.__name__, # only works when model was created with class\n",
    "           \"model_loss\" : loss.item(),\n",
    "           \"model_acc\" : acc}\n",
    "    \n",
    "# Calculate model_0 result on test dataset\n",
    "model_0_results = eval_model(model = model_0, data_loader= test_dataloader,loss_fn = loss_fn , accuracy_fn= accuracy_fn)\n",
    "\n",
    "model_0_results\n",
    "    "
   ]
  },
  {
   "cell_type": "markdown",
   "id": "64519666",
   "metadata": {},
   "source": [
    "## 5. Setup Agnostic Code (USING GPU)"
   ]
  },
  {
   "cell_type": "code",
   "execution_count": 40,
   "id": "766d7290",
   "metadata": {},
   "outputs": [],
   "source": [
    "device = \"cuda\""
   ]
  },
  {
   "cell_type": "markdown",
   "id": "7a06e4af",
   "metadata": {},
   "source": [
    "## 6. Model 1: Building a better model with non-linearity\n",
    "\n",
    "We learned  about the power of non-linearity in notebook 02"
   ]
  },
  {
   "cell_type": "markdown",
   "id": "f2ec63e6",
   "metadata": {},
   "source": []
  },
  {
   "cell_type": "code",
   "execution_count": 48,
   "id": "f08d23b4",
   "metadata": {},
   "outputs": [],
   "source": [
    "# Create a mddel  with non-linear and linear-layer\n",
    "class FashionMNISTModelV1(nn.Module):\n",
    "    def __init__(self, input_shape: int, hidden_units: int, output_shape:int):\n",
    "        super().__init__()\n",
    "        self.layer_stack = nn.Sequential(\n",
    "            nn.Flatten(),\n",
    "            nn.Linear(input_shape, hidden_units),\n",
    "            nn.ReLU(),\n",
    "            nn.Linear(input_shape, output_shape),\n",
    "            nn.ReLU()     \n",
    "        )\n",
    "        \n",
    "    def forward(self, x:torch.Tensor):\n",
    "        return self.layer_stack(x)"
   ]
  },
  {
   "cell_type": "code",
   "execution_count": 49,
   "id": "d4c4c503",
   "metadata": {},
   "outputs": [],
   "source": [
    "# Create an instance of model_1 \n",
    "torch.manual_seed(42)\n",
    "model_1 = FashionMNISTModelV1(784, 10, len(class_names)).to(device)"
   ]
  },
  {
   "cell_type": "markdown",
   "id": "45861e3b",
   "metadata": {},
   "source": [
    "### 6.1  Setup Loss, Optimizer dan evaluation metrics "
   ]
  },
  {
   "cell_type": "code",
   "execution_count": null,
   "id": "330b417a",
   "metadata": {},
   "outputs": [],
   "source": [
    "from helper_function import accuracy_fn \n",
    "\n",
    "loss_fn = nn.CrossEntropyLoss()\n",
    "optimizer = torch.optim.SGD(model_1.parameters(), lr=0.1)"
   ]
  },
  {
   "cell_type": "markdown",
   "id": "66a5e73a",
   "metadata": {},
   "source": [
    "### 6.2 Functionizing training and evaluation testing loop\n",
    "\n",
    "lets create a function for:\n",
    "* training loop = `train_step()`\n",
    "* testing loop = `test_step()`"
   ]
  },
  {
   "cell_type": "code",
   "execution_count": null,
   "id": "59143c37",
   "metadata": {},
   "outputs": [],
   "source": [
    "def train_step(model: torch.nn.Module,\n",
    "               data_loader: torch.utils.data.DataLoader,\n",
    "               optimizer: torch.optim.Optimizer, accuracy_fn, \n",
    "               device: torch.device = device):\n",
    "    train_loss = 0\n",
    "    # Put model in training mode \n",
    "    model.train()\n",
    "    # add a loop to toop through the training batches \n",
    "    for batch, (X,y) in enumerate(data_loader):\n",
    "        X,y = X.to(device), y.to(device)\n",
    "        # 1.Forward Pass\n",
    "        y_pred = model(X)\n",
    "        \n",
    "        # 2. Calculate loss and acc (per batch)\n",
    "        loss = loss_fn(y_pred,y)\n",
    "        train_loss += loss # accumulate train loss \n",
    "        train_acc +=accuracy_fn(y,y_pred.argmax(dim =1))\n",
    "        # 3. Optimizer zero grad\n",
    "        optimizer.zero_grad()\n",
    "        \n",
    "        # 4. Loss Backward\n",
    "        loss.backward()\n",
    "        \n",
    "        # 5. Optimizer Step \n",
    "        optimizer.step()\n",
    "        \n",
    "        # print out whats happening \n",
    "            \n",
    "            \n",
    "    # Divide total train loss and acc  by length of train dataloader \n",
    "    train_loss /= len(data_loader)\n",
    "    train_acc /= len(data_loader)\n",
    "    print(f\"Train Loss: {train_loss:.5f} | Train Acc: {train_acc:.2f}\")"
   ]
  },
  {
   "cell_type": "code",
   "execution_count": null,
   "id": "67ed78f6",
   "metadata": {},
   "outputs": [],
   "source": [
    "def test_step(model: torch.nn.Module,\n",
    "              data_loader = torch.utils.data.DataLoader)"
   ]
  }
 ],
 "metadata": {
  "kernelspec": {
   "display_name": "learn_deep_learning",
   "language": "python",
   "name": "python3"
  },
  "language_info": {
   "codemirror_mode": {
    "name": "ipython",
    "version": 3
   },
   "file_extension": ".py",
   "mimetype": "text/x-python",
   "name": "python",
   "nbconvert_exporter": "python",
   "pygments_lexer": "ipython3",
   "version": "3.13.7"
  }
 },
 "nbformat": 4,
 "nbformat_minor": 5
}
