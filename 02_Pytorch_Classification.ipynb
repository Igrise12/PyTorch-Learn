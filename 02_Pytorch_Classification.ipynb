{
 "cells": [
  {
   "cell_type": "markdown",
   "id": "dd2bd277",
   "metadata": {},
   "source": [
    "# 02. Neural Network Classfication with PyTorch\n",
    "\n",
    "classfication is a problem of prediction whether something is one thing or another (there can be multiple things as the options)\n",
    "\n",
    "https://www.learnpytorch.io/02_pytorch_classification/"
   ]
  },
  {
   "cell_type": "markdown",
   "id": "1c1ba239",
   "metadata": {},
   "source": [
    "## 1. Make clasffication data and get it ready"
   ]
  },
  {
   "cell_type": "code",
   "execution_count": 1,
   "id": "efd267ca",
   "metadata": {},
   "outputs": [],
   "source": [
    "from sklearn.datasets import  make_circles\n",
    "\n",
    "# make 1000 samples \n",
    "n_samples = 1000\n",
    "\n",
    "# Create cirles\n",
    "X, y = make_circles(n_samples, noise=0.03, random_state = 42) \n"
   ]
  },
  {
   "cell_type": "code",
   "execution_count": 2,
   "id": "92eacf72",
   "metadata": {},
   "outputs": [
    {
     "data": {
      "text/plain": [
       "(1000, 1000)"
      ]
     },
     "execution_count": 2,
     "metadata": {},
     "output_type": "execute_result"
    }
   ],
   "source": [
    "len(X), len(y)"
   ]
  },
  {
   "cell_type": "code",
   "execution_count": 3,
   "id": "4606270f",
   "metadata": {},
   "outputs": [
    {
     "name": "stdout",
     "output_type": "stream",
     "text": [
      "First 5 samples of X : \n",
      " [[ 0.75424625  0.23148074]\n",
      " [-0.75615888  0.15325888]\n",
      " [-0.81539193  0.17328203]\n",
      " [-0.39373073  0.69288277]\n",
      " [ 0.44220765 -0.89672343]]\n",
      "First 5 samples of y : \n",
      " [1 1 1 1 0]\n"
     ]
    }
   ],
   "source": [
    "print(f\"First 5 samples of X : \\n {X[:5]}\")\n",
    "print(f\"First 5 samples of y : \\n {y[:5]}\")"
   ]
  },
  {
   "cell_type": "code",
   "execution_count": 6,
   "id": "cf805bd1",
   "metadata": {},
   "outputs": [
    {
     "data": {
      "application/vnd.microsoft.datawrangler.viewer.v0+json": {
       "columns": [
        {
         "name": "index",
         "rawType": "int64",
         "type": "integer"
        },
        {
         "name": "X1",
         "rawType": "float64",
         "type": "float"
        },
        {
         "name": "X2",
         "rawType": "float64",
         "type": "float"
        },
        {
         "name": "Label",
         "rawType": "int64",
         "type": "integer"
        }
       ],
       "ref": "125d3dbc-62b6-47d0-af09-9a6a4248d15b",
       "rows": [
        [
         "0",
         "0.7542462506997276",
         "0.23148073787097836",
         "1"
        ],
        [
         "1",
         "-0.7561588822214413",
         "0.15325887663494678",
         "1"
        ],
        [
         "2",
         "-0.8153919335251194",
         "0.17328202920351576",
         "1"
        ],
        [
         "3",
         "-0.393730728902315",
         "0.6928827699017868",
         "1"
        ],
        [
         "4",
         "0.4422076451826442",
         "-0.8967234339920015",
         "0"
        ],
        [
         "5",
         "-0.4796463680909052",
         "0.6764347685615512",
         "1"
        ],
        [
         "6",
         "-0.01364835948765009",
         "0.8033487191694424",
         "1"
        ],
        [
         "7",
         "0.771513273784567",
         "0.14775958770972614",
         "1"
        ],
        [
         "8",
         "-0.1693223397310359",
         "-0.7934557525393878",
         "1"
        ],
        [
         "9",
         "-0.12148579609572473",
         "1.0215090535090692",
         "0"
        ],
        [
         "10",
         "-0.6424904164605417",
         "-0.5440992919100412",
         "1"
        ],
        [
         "11",
         "0.5694666038619414",
         "0.8447677588470264",
         "0"
        ],
        [
         "12",
         "-0.11773591057994579",
         "0.83140071355219",
         "1"
        ],
        [
         "13",
         "0.7341000380997706",
         "-0.33316553284716566",
         "1"
        ],
        [
         "14",
         "0.6007763329875784",
         "-0.5874263247064434",
         "1"
        ],
        [
         "15",
         "0.1902257071593219",
         "-0.7634100332379965",
         "1"
        ],
        [
         "16",
         "-0.9369518458691565",
         "-0.3434314034123277",
         "0"
        ],
        [
         "17",
         "0.10706169647542807",
         "-0.7930922002083585",
         "1"
        ],
        [
         "18",
         "-0.8189136188148606",
         "-0.10162399471098164",
         "1"
        ],
        [
         "19",
         "-0.6421001301658269",
         "-0.7453744107773587",
         "0"
        ],
        [
         "20",
         "0.6268271991614062",
         "0.4500469765427874",
         "1"
        ],
        [
         "21",
         "-0.5622913599321846",
         "0.8537590623741356",
         "0"
        ],
        [
         "22",
         "-0.021266657940981575",
         "-0.9962753104714336",
         "0"
        ],
        [
         "23",
         "0.7397705779966571",
         "0.2783702523787685",
         "1"
        ],
        [
         "24",
         "-0.9090483931626677",
         "0.45724363092388837",
         "0"
        ],
        [
         "25",
         "-0.9369941113549001",
         "0.19944234898713223",
         "0"
        ],
        [
         "26",
         "0.2866157795638462",
         "0.979738705284201",
         "0"
        ],
        [
         "27",
         "0.8262607165388521",
         "-0.15335757392759",
         "1"
        ],
        [
         "28",
         "0.25343339734490505",
         "-0.7709718019147017",
         "1"
        ],
        [
         "29",
         "0.6579462552707562",
         "-0.4650809670466636",
         "1"
        ],
        [
         "30",
         "-0.31483477907451746",
         "-0.9040708539611471",
         "0"
        ],
        [
         "31",
         "-0.2239896013581317",
         "0.9929932641567513",
         "0"
        ],
        [
         "32",
         "0.008443892458404115",
         "0.7836021340356716",
         "1"
        ],
        [
         "33",
         "1.005038870311242",
         "0.012500922067145042",
         "0"
        ],
        [
         "34",
         "-0.08951581980284554",
         "-1.0677683182718436",
         "0"
        ],
        [
         "35",
         "-0.7885744733936725",
         "0.6872374451965618",
         "0"
        ],
        [
         "36",
         "-0.5682053624291838",
         "0.5706360048159362",
         "1"
        ],
        [
         "37",
         "0.4476467817947157",
         "0.7138552423074742",
         "1"
        ],
        [
         "38",
         "0.2632607189552557",
         "-0.7444151440363913",
         "1"
        ],
        [
         "39",
         "0.7450204353353834",
         "0.6411401752763233",
         "0"
        ],
        [
         "40",
         "-0.5971189712221787",
         "-0.7739910558320856",
         "0"
        ],
        [
         "41",
         "0.3619283792704055",
         "0.937331805734003",
         "0"
        ],
        [
         "42",
         "-0.7142425071309714",
         "-0.6792177717703557",
         "0"
        ],
        [
         "43",
         "0.8338393770479202",
         "-0.2410363078325334",
         "1"
        ],
        [
         "44",
         "-0.8339818555066204",
         "-0.5815747291590141",
         "0"
        ],
        [
         "45",
         "-0.9108606418767068",
         "-0.35030356256537665",
         "0"
        ],
        [
         "46",
         "0.4876255574087219",
         "-0.7226935217930912",
         "1"
        ],
        [
         "47",
         "0.2307368781182363",
         "0.7827358362017345",
         "1"
        ],
        [
         "48",
         "0.7584127912851786",
         "-0.7182075323240764",
         "0"
        ],
        [
         "49",
         "-0.4127468390261082",
         "-0.7183312139975903",
         "1"
        ]
       ],
       "shape": {
        "columns": 3,
        "rows": 1000
       }
      },
      "text/html": [
       "<div>\n",
       "<style scoped>\n",
       "    .dataframe tbody tr th:only-of-type {\n",
       "        vertical-align: middle;\n",
       "    }\n",
       "\n",
       "    .dataframe tbody tr th {\n",
       "        vertical-align: top;\n",
       "    }\n",
       "\n",
       "    .dataframe thead th {\n",
       "        text-align: right;\n",
       "    }\n",
       "</style>\n",
       "<table border=\"1\" class=\"dataframe\">\n",
       "  <thead>\n",
       "    <tr style=\"text-align: right;\">\n",
       "      <th></th>\n",
       "      <th>X1</th>\n",
       "      <th>X2</th>\n",
       "      <th>Label</th>\n",
       "    </tr>\n",
       "  </thead>\n",
       "  <tbody>\n",
       "    <tr>\n",
       "      <th>0</th>\n",
       "      <td>0.754246</td>\n",
       "      <td>0.231481</td>\n",
       "      <td>1</td>\n",
       "    </tr>\n",
       "    <tr>\n",
       "      <th>1</th>\n",
       "      <td>-0.756159</td>\n",
       "      <td>0.153259</td>\n",
       "      <td>1</td>\n",
       "    </tr>\n",
       "    <tr>\n",
       "      <th>2</th>\n",
       "      <td>-0.815392</td>\n",
       "      <td>0.173282</td>\n",
       "      <td>1</td>\n",
       "    </tr>\n",
       "    <tr>\n",
       "      <th>3</th>\n",
       "      <td>-0.393731</td>\n",
       "      <td>0.692883</td>\n",
       "      <td>1</td>\n",
       "    </tr>\n",
       "    <tr>\n",
       "      <th>4</th>\n",
       "      <td>0.442208</td>\n",
       "      <td>-0.896723</td>\n",
       "      <td>0</td>\n",
       "    </tr>\n",
       "    <tr>\n",
       "      <th>...</th>\n",
       "      <td>...</td>\n",
       "      <td>...</td>\n",
       "      <td>...</td>\n",
       "    </tr>\n",
       "    <tr>\n",
       "      <th>995</th>\n",
       "      <td>0.244054</td>\n",
       "      <td>0.944125</td>\n",
       "      <td>0</td>\n",
       "    </tr>\n",
       "    <tr>\n",
       "      <th>996</th>\n",
       "      <td>-0.978655</td>\n",
       "      <td>-0.272373</td>\n",
       "      <td>0</td>\n",
       "    </tr>\n",
       "    <tr>\n",
       "      <th>997</th>\n",
       "      <td>-0.136900</td>\n",
       "      <td>-0.810012</td>\n",
       "      <td>1</td>\n",
       "    </tr>\n",
       "    <tr>\n",
       "      <th>998</th>\n",
       "      <td>0.670362</td>\n",
       "      <td>-0.767502</td>\n",
       "      <td>0</td>\n",
       "    </tr>\n",
       "    <tr>\n",
       "      <th>999</th>\n",
       "      <td>0.281057</td>\n",
       "      <td>0.963824</td>\n",
       "      <td>0</td>\n",
       "    </tr>\n",
       "  </tbody>\n",
       "</table>\n",
       "<p>1000 rows × 3 columns</p>\n",
       "</div>"
      ],
      "text/plain": [
       "           X1        X2  Label\n",
       "0    0.754246  0.231481      1\n",
       "1   -0.756159  0.153259      1\n",
       "2   -0.815392  0.173282      1\n",
       "3   -0.393731  0.692883      1\n",
       "4    0.442208 -0.896723      0\n",
       "..        ...       ...    ...\n",
       "995  0.244054  0.944125      0\n",
       "996 -0.978655 -0.272373      0\n",
       "997 -0.136900 -0.810012      1\n",
       "998  0.670362 -0.767502      0\n",
       "999  0.281057  0.963824      0\n",
       "\n",
       "[1000 rows x 3 columns]"
      ]
     },
     "execution_count": 6,
     "metadata": {},
     "output_type": "execute_result"
    }
   ],
   "source": [
    "# Make dataframe of circle data  \n",
    "import pandas as pd \n",
    "\n",
    "circles = pd.DataFrame({\"X1\" : X[:,0], \"X2\": X[:,1], \"Label\" :y})\n",
    "circles"
   ]
  },
  {
   "cell_type": "code",
   "execution_count": 23,
   "id": "4a892f9b",
   "metadata": {},
   "outputs": [
    {
     "data": {
      "text/plain": [
       "<matplotlib.collections.PathCollection at 0x25a4393d810>"
      ]
     },
     "execution_count": 23,
     "metadata": {},
     "output_type": "execute_result"
    },
    {
     "data": {
      "image/png": "[encoded data removed]",
      "text/plain": [
       "<Figure size 640x480 with 1 Axes>"
      ]
     },
     "metadata": {},
     "output_type": "display_data"
    }
   ],
   "source": [
    "#  Visualize, visuzlize and visualize \n",
    "import matplotlib.pyplot as plt \n",
    "plt.scatter(x = circles[\"X1\"], y = circles[\"X2\"],  c=circles[\"Label\"], cmap=\"bwr\", s=50)"
   ]
  },
  {
   "cell_type": "markdown",
   "id": "9914ad5e",
   "metadata": {},
   "source": [
    "**Note:** The date we're working with is often refered to as a toy dataset, a dataset that is samll enough to experiment but still sizeable enough to practice the fundamentals. "
   ]
  },
  {
   "cell_type": "markdown",
   "id": "84617456",
   "metadata": {},
   "source": [
    "### 1.1 Check input and output shapes"
   ]
  },
  {
   "cell_type": "code",
   "execution_count": 24,
   "id": "e33e9df8",
   "metadata": {},
   "outputs": [
    {
     "data": {
      "text/plain": [
       "((1000, 2), (1000,))"
      ]
     },
     "execution_count": 24,
     "metadata": {},
     "output_type": "execute_result"
    }
   ],
   "source": [
    "X.shape, y.shape"
   ]
  },
  {
   "cell_type": "code",
   "execution_count": 26,
   "id": "15a07ca0",
   "metadata": {},
   "outputs": [
    {
     "name": "stdout",
     "output_type": "stream",
     "text": [
      "Values for one sample of X: [0.75424625 0.23148074] and the same for y: 1\n",
      "Shape for one sample of X: (2,) and the same for y: ()\n"
     ]
    }
   ],
   "source": [
    "# View the first example of features and labels \n",
    "X_sample = X[0]\n",
    "y_sample = y[0]\n",
    "\n",
    "print(f\"Values for one sample of X: {X_sample} and the same for y: {y_sample}\")\n",
    "print(f\"Shape for one sample of X: {X_sample.shape} and the same for y: {y_sample.shape}\")"
   ]
  },
  {
   "cell_type": "markdown",
   "id": "5a180e29",
   "metadata": {},
   "source": [
    "### 1.2 Turn data into tensor and create train and test splits"
   ]
  },
  {
   "cell_type": "code",
   "execution_count": 27,
   "id": "84c299d2",
   "metadata": {},
   "outputs": [
    {
     "data": {
      "text/plain": [
       "'2.8.0+cu126'"
      ]
     },
     "execution_count": 27,
     "metadata": {},
     "output_type": "execute_result"
    }
   ],
   "source": [
    "# Turn data into tensors\n",
    "import torch \n",
    "torch.__version__"
   ]
  },
  {
   "cell_type": "code",
   "execution_count": 28,
   "id": "134b738a",
   "metadata": {},
   "outputs": [
    {
     "data": {
      "text/plain": [
       "numpy.ndarray"
      ]
     },
     "execution_count": 28,
     "metadata": {},
     "output_type": "execute_result"
    }
   ],
   "source": [
    "type(X)"
   ]
  },
  {
   "cell_type": "code",
   "execution_count": 29,
   "id": "527c50a9",
   "metadata": {},
   "outputs": [
    {
     "data": {
      "text/plain": [
       "tensor([[ 0.7542,  0.2315],\n",
       "        [-0.7562,  0.1533],\n",
       "        [-0.8154,  0.1733],\n",
       "        [-0.3937,  0.6929],\n",
       "        [ 0.4422, -0.8967]])"
      ]
     },
     "execution_count": 29,
     "metadata": {},
     "output_type": "execute_result"
    }
   ],
   "source": [
    "# turn data into tensor \n",
    "X = torch.from_numpy(X).type(torch.float) \n",
    "y = torch.from_numpy(y).type(torch.float) \n",
    "\n",
    "\n",
    "X[:5] "
   ]
  },
  {
   "cell_type": "code",
   "execution_count": 31,
   "id": "10941c4b",
   "metadata": {},
   "outputs": [
    {
     "data": {
      "text/plain": [
       "torch.Tensor"
      ]
     },
     "execution_count": 31,
     "metadata": {},
     "output_type": "execute_result"
    }
   ],
   "source": [
    "type(X)"
   ]
  },
  {
   "cell_type": "code",
   "execution_count": 33,
   "id": "6dc7b8de",
   "metadata": {},
   "outputs": [],
   "source": [
    "# split data into training and test sets\n",
    "from sklearn.model_selection import train_test_split\n",
    "\n",
    "\n",
    "X_train, X_test, y_train, y_test = train_test_split(X,y, random_state= 42, test_size = 0.2)"
   ]
  },
  {
   "cell_type": "code",
   "execution_count": 35,
   "id": "a9450f95",
   "metadata": {},
   "outputs": [
    {
     "data": {
      "text/plain": [
       "(800, 200, 800, 200)"
      ]
     },
     "execution_count": 35,
     "metadata": {},
     "output_type": "execute_result"
    }
   ],
   "source": [
    "len(X_train), len(X_test), len(y_train), len(y_test)"
   ]
  },
  {
   "cell_type": "markdown",
   "id": "5e55b009",
   "metadata": {},
   "source": [
    "## 2. Building a model \n",
    "\n",
    "lets' build a model to classify our blue and red dots \n",
    "\n",
    "To do so, we want to:\n",
    "1. Setup device agnostic code so our code will run on an accelerator (GPU) if there is one\n",
    "2. Construct a model (By Subclassing `nn.Module`) \n",
    "3. Define a loss function and optimizer \n",
    "4. Create a training and test loop"
   ]
  },
  {
   "cell_type": "code",
   "execution_count": 38,
   "id": "de7d8ce4",
   "metadata": {},
   "outputs": [
    {
     "data": {
      "text/plain": [
       "'cuda'"
      ]
     },
     "execution_count": 38,
     "metadata": {},
     "output_type": "execute_result"
    }
   ],
   "source": [
    "import torch \n",
    "from torch import nn \n",
    "\n",
    "# Make device agnostic code \n",
    "device = \"cuda\" if torch.cuda.is_available() else \"cpu\"\n",
    "device"
   ]
  },
  {
   "cell_type": "code",
   "execution_count": 39,
   "id": "259a5b63",
   "metadata": {},
   "outputs": [
    {
     "data": {
      "text/plain": [
       "tensor([[ 0.6579, -0.4651],\n",
       "        [ 0.6319, -0.7347],\n",
       "        [-1.0086, -0.1240],\n",
       "        ...,\n",
       "        [ 0.0157, -1.0300],\n",
       "        [ 1.0110,  0.1680],\n",
       "        [ 0.5578, -0.5709]])"
      ]
     },
     "execution_count": 39,
     "metadata": {},
     "output_type": "execute_result"
    }
   ],
   "source": [
    "X_train"
   ]
  },
  {
   "cell_type": "markdown",
   "id": "874fc047",
   "metadata": {},
   "source": [
    "Now we've setup device agnostic code, let's create a model that:\n",
    "\n",
    "1. Subclasses `nn.Module` (almost all models in PyTorch subclass `nn.Module`)\n",
    "2. Create 2 `nn.Linear()` layers taht are capable of handling the shapes our data\n",
    "3. Defines a `forward` method that outlines the forward pass (or forward computation) of the model \n",
    "4. Instatiate an instance of our model class and send it to the target `device`"
   ]
  },
  {
   "cell_type": "code",
   "execution_count": null,
   "id": "f62a7a7c",
   "metadata": {},
   "outputs": [
    {
     "data": {
      "text/plain": [
       "CircleModelV0(\n",
       "  (layer_1): Linear(in_features=2, out_features=5, bias=True)\n",
       "  (layer_2): Linear(in_features=5, out_features=1, bias=True)\n",
       ")"
      ]
     },
     "execution_count": 46,
     "metadata": {},
     "output_type": "execute_result"
    }
   ],
   "source": [
    "# 1. Construct a model that subclasses nn.Module \n",
    "class CircleModelV0(nn.Module):\n",
    "    def __init__(self):\n",
    "        super().__init__()\n",
    "        # 2. Create 2 nn.Linear layers capable of handling the shapes our data \n",
    "        self.layer_1 = nn.Linear(in_features = 2, out_features=5) #takes in 2 features and upscales to 5 features\n",
    "        self.layer_2 = nn.Linear(in_features = 5, out_features=1) #takes in 5 features from prev layer and outputs a single feature (same shape as y)\n",
    "    # 3. Define a forward() method that outlines the forward pass \n",
    "    def forward(self,x):\n",
    "        return self.layer_2(self.layer_1(x)) # x -> layer_1 -> layer_2 -> output\n",
    "    \n",
    "# 4. Instantiate an instance of our model class and send it to the target device\n",
    "model_0 = CircleModelV0().to(device)\n",
    "model_0"
   ]
  },
  {
   "cell_type": "code",
   "execution_count": 47,
   "id": "6f89968a",
   "metadata": {},
   "outputs": [
    {
     "data": {
      "text/plain": [
       "Parameter containing:\n",
       "tensor([[ 0.1527, -0.4855],\n",
       "        [-0.7028,  0.3579],\n",
       "        [ 0.3331, -0.5527],\n",
       "        [ 0.5322,  0.3866],\n",
       "        [ 0.1337, -0.4078]], device='cuda:0', requires_grad=True)"
      ]
     },
     "execution_count": 47,
     "metadata": {},
     "output_type": "execute_result"
    }
   ],
   "source": [
    "next(model_0.parameters())"
   ]
  },
  {
   "cell_type": "code",
   "execution_count": 51,
   "id": "8cfcfe2b",
   "metadata": {},
   "outputs": [
    {
     "data": {
      "text/plain": [
       "Sequential(\n",
       "  (0): Linear(in_features=2, out_features=5, bias=True)\n",
       "  (1): Linear(in_features=5, out_features=1, bias=True)\n",
       ")"
      ]
     },
     "execution_count": 51,
     "metadata": {},
     "output_type": "execute_result"
    }
   ],
   "source": [
    "# Lets  replicate the model above using nn.Sequential()\n",
    "model_0 = nn.Sequential(\n",
    "    nn.Linear(in_features=2, out_features= 5),\n",
    "    nn.Linear(in_features=5, out_features= 1)\n",
    ").to(device)\n",
    "\n",
    "model_0"
   ]
  },
  {
   "cell_type": "code",
   "execution_count": 54,
   "id": "48fedb11",
   "metadata": {},
   "outputs": [
    {
     "data": {
      "text/plain": [
       "OrderedDict([('0.weight',\n",
       "              tensor([[ 0.1911, -0.2662],\n",
       "                      [ 0.2320,  0.0718],\n",
       "                      [ 0.3077, -0.2092],\n",
       "                      [ 0.1813, -0.3008],\n",
       "                      [-0.2159,  0.5461]], device='cuda:0')),\n",
       "             ('0.bias',\n",
       "              tensor([-0.3748,  0.3484, -0.4318,  0.4371,  0.1814], device='cuda:0')),\n",
       "             ('1.weight',\n",
       "              tensor([[-0.4238, -0.3218, -0.0579,  0.3702, -0.0647]], device='cuda:0')),\n",
       "             ('1.bias', tensor([-0.0116], device='cuda:0'))])"
      ]
     },
     "execution_count": 54,
     "metadata": {},
     "output_type": "execute_result"
    }
   ],
   "source": [
    "model_0.state_dict()"
   ]
  },
  {
   "cell_type": "code",
   "execution_count": null,
   "id": "a8f692c2",
   "metadata": {},
   "outputs": [],
   "source": []
  },
  {
   "cell_type": "code",
   "execution_count": 58,
   "id": "ca2bb0ea",
   "metadata": {},
   "outputs": [
    {
     "name": "stdout",
     "output_type": "stream",
     "text": [
      "Length of predictions : 200, shape :torch.Size([200, 1])\n",
      "Length of test samples : 200 , shape torch.Size([200, 2])\n",
      "\n",
      " First 10 predictions\n",
      " tensor([[0.2142],\n",
      "        [0.1657],\n",
      "        [0.2892],\n",
      "        [0.1932],\n",
      "        [0.2065],\n",
      "        [0.1775],\n",
      "        [0.1065],\n",
      "        [0.1090],\n",
      "        [0.2926],\n",
      "        [0.1615]], device='cuda:0')\n",
      "\n",
      " First 10 Labels :\n",
      " tensor([1., 0., 1., 0., 1., 1., 0., 0., 1., 0.])\n"
     ]
    }
   ],
   "source": [
    "# Make predictions \n",
    "with torch.inference_mode():\n",
    "    untrained_preds = model_0(X_test.to(device))\n",
    "print(f\"Length of predictions : {len(untrained_preds)}, shape :{untrained_preds.shape}\")\n",
    "print(f\"Length of test samples : {len(X_test)} , shape {X_test.shape}\")\n",
    "print(f\"\\n First 10 predictions\\n {untrained_preds[:10]}\")\n",
    "print(f\"\\n First 10 Labels :\\n {y_test[:10]}\")"
   ]
  },
  {
   "cell_type": "markdown",
   "id": "cbb54862",
   "metadata": {},
   "source": [
    "### 2.1 Setup loss function and optimizer \n",
    "\n",
    "which loss function or optimizer should you use?\n",
    "\n",
    "Again... this is problem specific.\n",
    "\n",
    "For example for regression you might want MAE or MSE (mean absolute error or mean squared error)\n",
    "\n",
    "for classification you might want binary cross entropy or categorical cross entropy  (cross entropy)\n",
    "\n",
    "as a reminder, the loss function measure how **wrong**  our model \n",
    "\n",
    "and for optimizers, two of the most common and useful are SGD and Adam, \n",
    "\n",
    "* for the loss function we're going to use `torch.nn.BECWithLogutsLoss()`, for more on what binary cross entropy (BCE) is, check out this article https://towardsdatascience.com/understanding-binary-cross-entropy-log-loss-a-visual-explanation-a3ac6025181a/\n",
    "\n"
   ]
  },
  {
   "cell_type": "code",
   "execution_count": 59,
   "id": "03e4bde0",
   "metadata": {},
   "outputs": [],
   "source": [
    "# Setup the loss function\n",
    "# loss_fn = nn.BCELoss # BCELoss = require inputs to have gone through the sigmoid activation function prior to BCELoss\n",
    "loss_fn = nn.BCEWithLogitsLoss() # BCEWithLogitsLoss = sigmoid activation function built-in \n",
    "\n",
    "optimizer = torch.optim.SGD(params = model_0.parameters(), lr = 0.1, )"
   ]
  },
  {
   "cell_type": "code",
   "execution_count": 60,
   "id": "06c9cd94",
   "metadata": {},
   "outputs": [],
   "source": [
    "# Calculate accuracy  - out of 100 examples, what percentage dous our model get right? \n",
    "def accuracy_fn(y_true, y_pred):\n",
    "    correct = torch.eq(y_true, y_pred).sum().item()\n",
    "    \n",
    "    acc = (correct/len(y_pred)) *100\n",
    "    \n",
    "    return acc \n"
   ]
  },
  {
   "cell_type": "code",
   "execution_count": null,
   "id": "35b1e920",
   "metadata": {},
   "outputs": [],
   "source": []
  }
 ],
 "metadata": {
  "kernelspec": {
   "display_name": "learn_deep_learning",
   "language": "python",
   "name": "python3"
  },
  "language_info": {
   "codemirror_mode": {
    "name": "ipython",
    "version": 3
   },
   "file_extension": ".py",
   "mimetype": "text/x-python",
   "name": "python",
   "nbconvert_exporter": "python",
   "pygments_lexer": "ipython3",
   "version": "3.13.7"
  }
 },
 "nbformat": 4,
 "nbformat_minor": 5
}
